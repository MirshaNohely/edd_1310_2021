{
  "nbformat": 4,
  "nbformat_minor": 0,
  "metadata": {
    "colab": {
      "name": "Untitled1.ipynb",
      "provenance": [],
      "collapsed_sections": [],
      "authorship_tag": "ABX9TyPNsccgdnijN6eO2j9HUJaE",
      "include_colab_link": true
    },
    "kernelspec": {
      "name": "python3",
      "display_name": "Python 3"
    }
  },
  "cells": [
    {
      "cell_type": "markdown",
      "metadata": {
        "id": "view-in-github",
        "colab_type": "text"
      },
      "source": [
        "<a href=\"https://colab.research.google.com/github/MirshaNohely/edd_1310_2021/blob/master/290920.ipynb\" target=\"_parent\"><img src=\"https://colab.research.google.com/assets/colab-badge.svg\" alt=\"Open In Colab\"/></a>"
      ]
    },
    {
      "cell_type": "markdown",
      "metadata": {
        "id": "sBYk-6QqKqVL"
      },
      "source": [
        "Martes 29 de septiembre del 2020"
      ]
    },
    {
      "cell_type": "code",
      "metadata": {
        "id": "hqHYJz1VKptc"
      },
      "source": [
        ""
      ],
      "execution_count": null,
      "outputs": []
    },
    {
      "cell_type": "code",
      "metadata": {
        "id": "rM2QoFdv9qte"
      },
      "source": [
        "edad = 18"
      ],
      "execution_count": null,
      "outputs": []
    },
    {
      "cell_type": "code",
      "metadata": {
        "id": "LBCXWANj-rdT",
        "outputId": "ee89e959-3e5c-48e3-e42e-705380a6992a",
        "colab": {
          "base_uri": "https://localhost:8080/",
          "height": 34
        }
      },
      "source": [
        "print(edad)"
      ],
      "execution_count": null,
      "outputs": [
        {
          "output_type": "stream",
          "text": [
            "18\n"
          ],
          "name": "stdout"
        }
      ]
    },
    {
      "cell_type": "code",
      "metadata": {
        "id": "XnRQdK5D-vZv"
      },
      "source": [
        "colores = [\"rojo\",\"azul\",\"verde\",\"morado\",\"violeta\"]"
      ],
      "execution_count": null,
      "outputs": []
    },
    {
      "cell_type": "code",
      "metadata": {
        "id": "Craaqaxp_e98",
        "outputId": "3e0cb539-13e4-4ddb-da96-f2808274e17b",
        "colab": {
          "base_uri": "https://localhost:8080/",
          "height": 34
        }
      },
      "source": [
        "print(colores)"
      ],
      "execution_count": null,
      "outputs": [
        {
          "output_type": "stream",
          "text": [
            "['rojo', 'azul', 'verde', 'morado', 'violeta']\n"
          ],
          "name": "stdout"
        }
      ]
    },
    {
      "cell_type": "code",
      "metadata": {
        "id": "fWpHK0LfBLT_"
      },
      "source": [
        "#sólo mostrar morado"
      ],
      "execution_count": null,
      "outputs": []
    },
    {
      "cell_type": "code",
      "metadata": {
        "id": "Yybilp7RBXmG"
      },
      "source": [
        ""
      ],
      "execution_count": null,
      "outputs": []
    },
    {
      "cell_type": "code",
      "metadata": {
        "id": "8v_Ee5Lf_m_Q",
        "outputId": "ca2d7d2d-4ede-429b-f534-5d1aad684d7f",
        "colab": {
          "base_uri": "https://localhost:8080/",
          "height": 34
        }
      },
      "source": [
        "print(colores[3])"
      ],
      "execution_count": null,
      "outputs": [
        {
          "output_type": "stream",
          "text": [
            "morado\n"
          ],
          "name": "stdout"
        }
      ]
    },
    {
      "cell_type": "code",
      "metadata": {
        "id": "DZOC4F_DBZbQ"
      },
      "source": [
        "#sólo mostrar la \"ra\" de morado ?????"
      ],
      "execution_count": null,
      "outputs": []
    },
    {
      "cell_type": "code",
      "metadata": {
        "id": "dNzAUmpvB-aT",
        "outputId": "6147de5f-90a6-421c-e441-04c40765c8f2",
        "colab": {
          "base_uri": "https://localhost:8080/",
          "height": 34
        }
      },
      "source": [
        "print(colores[3][2:4])"
      ],
      "execution_count": null,
      "outputs": [
        {
          "output_type": "stream",
          "text": [
            "ra\n"
          ],
          "name": "stdout"
        }
      ]
    },
    {
      "cell_type": "code",
      "metadata": {
        "id": "UxZK22GABjM8"
      },
      "source": [
        "nombre = \"Alberto\""
      ],
      "execution_count": null,
      "outputs": []
    },
    {
      "cell_type": "code",
      "metadata": {
        "id": "buUfEy71BoQH",
        "outputId": "50fbdd65-6e53-45c1-8900-c5a40c8eae10",
        "colab": {
          "base_uri": "https://localhost:8080/",
          "height": 34
        }
      },
      "source": [
        "print(nombre[0])"
      ],
      "execution_count": null,
      "outputs": [
        {
          "output_type": "stream",
          "text": [
            "A\n"
          ],
          "name": "stdout"
        }
      ]
    },
    {
      "cell_type": "code",
      "metadata": {
        "id": "PQQthBYUBu4C",
        "outputId": "5166132e-b4b0-465e-9691-d4cc06b71a2a",
        "colab": {
          "base_uri": "https://localhost:8080/",
          "height": 34
        }
      },
      "source": [
        "print(nombre[0:3:1])"
      ],
      "execution_count": null,
      "outputs": [
        {
          "output_type": "stream",
          "text": [
            "Alb\n"
          ],
          "name": "stdout"
        }
      ]
    },
    {
      "cell_type": "markdown",
      "metadata": {
        "id": "4AOXN_ZwCJoO"
      },
      "source": [
        "#For en Python 3\n",
        "\n",
        "2. Variantes\n",
        "\n",
        "  1. in range(ini, tape, incremento)\n",
        "  2. in < iterador >"
      ]
    },
    {
      "cell_type": "code",
      "metadata": {
        "id": "gxGCTf_PDUV5"
      },
      "source": [
        ""
      ],
      "execution_count": null,
      "outputs": []
    },
    {
      "cell_type": "code",
      "metadata": {
        "id": "G8rAadOxDJ5e",
        "outputId": "741032a9-2866-445f-b026-0ae132825587",
        "colab": {
          "base_uri": "https://localhost:8080/",
          "height": 85
        }
      },
      "source": [
        "for j in range (0,4,1):\n",
        "  print(colores[3])"
      ],
      "execution_count": null,
      "outputs": [
        {
          "output_type": "stream",
          "text": [
            "morado\n",
            "morado\n",
            "morado\n",
            "morado\n"
          ],
          "name": "stdout"
        }
      ]
    },
    {
      "cell_type": "code",
      "metadata": {
        "id": "GN3-sqt1DU1h",
        "outputId": "74a8e9f5-9ca6-4821-b97b-f6917fdc481a",
        "colab": {
          "base_uri": "https://localhost:8080/",
          "height": 34
        }
      },
      "source": [
        "print(colores[3])"
      ],
      "execution_count": null,
      "outputs": [
        {
          "output_type": "stream",
          "text": [
            "morado\n"
          ],
          "name": "stdout"
        }
      ]
    },
    {
      "cell_type": "code",
      "metadata": {
        "id": "4uQ151ofD8qY",
        "outputId": "05e8617d-d975-4db6-815f-3a15fe679b3b",
        "colab": {
          "base_uri": "https://localhost:8080/",
          "height": 102
        }
      },
      "source": [
        "for color in colores:\n",
        "  print(color)"
      ],
      "execution_count": null,
      "outputs": [
        {
          "output_type": "stream",
          "text": [
            "rojo\n",
            "azul\n",
            "verde\n",
            "morado\n",
            "violeta\n"
          ],
          "name": "stdout"
        }
      ]
    },
    {
      "cell_type": "code",
      "metadata": {
        "id": "bA6rxNbvEhuk"
      },
      "source": [
        "for j in range (0, 1en(nombre), 1):\n",
        "  print(nombre[j])"
      ],
      "execution_count": null,
      "outputs": []
    },
    {
      "cell_type": "code",
      "metadata": {
        "id": "3MVriWKlE3if",
        "outputId": "68add18a-1ec0-4fa2-db71-49299a0b80a9",
        "colab": {
          "base_uri": "https://localhost:8080/",
          "height": 34
        }
      },
      "source": [
        "print(nombre[j])"
      ],
      "execution_count": null,
      "outputs": [
        {
          "output_type": "stream",
          "text": [
            "e\n"
          ],
          "name": "stdout"
        }
      ]
    },
    {
      "cell_type": "code",
      "metadata": {
        "id": "9Fd-qhUtE_br",
        "outputId": "5a264120-029c-4667-90c1-019fbcfd7964",
        "colab": {
          "base_uri": "https://localhost:8080/",
          "height": 136
        }
      },
      "source": [
        "for letra in nombre:\n",
        "  print(letra)"
      ],
      "execution_count": null,
      "outputs": [
        {
          "output_type": "stream",
          "text": [
            "A\n",
            "l\n",
            "b\n",
            "e\n",
            "r\n",
            "t\n",
            "o\n"
          ],
          "name": "stdout"
        }
      ]
    },
    {
      "cell_type": "markdown",
      "metadata": {
        "id": "F0NNuOmAFLoK"
      },
      "source": [
        "#Markdown\n",
        "Es un lenguaje de marcado para convertir codigo. El objetivo es simplificar la escritura de lenguaje HTML.\n",
        "\n",
        "Mas informacion en [GitHub](https://github.com/adam-p/markdown-here/wiki/Markdown-Cheatsheet)\n",
        "\n",
        "_____\n",
        "![FES.esmipasionc':](https://64.media.tumblr.com/9b378cff721e4396d0a80676483de9c2/54f1f26488c6d057-82/s500x750/b6d1a3be6dbff1a2aa6ef0acb5a10313ce7830ac.gifv)"
      ]
    }
  ]
}