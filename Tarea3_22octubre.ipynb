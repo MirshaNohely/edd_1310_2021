{
  "nbformat": 4,
  "nbformat_minor": 0,
  "metadata": {
    "colab": {
      "name": "Tarea3_22octubre.ipynb",
      "provenance": [],
      "authorship_tag": "ABX9TyOBtdS9d000TuNULyttnYFW",
      "include_colab_link": true
    },
    "kernelspec": {
      "name": "python3",
      "display_name": "Python 3"
    }
  },
  "cells": [
    {
      "cell_type": "markdown",
      "metadata": {
        "id": "view-in-github",
        "colab_type": "text"
      },
      "source": [
        "<a href=\"https://colab.research.google.com/github/MirshaNohely/edd_1310_2021/blob/master/Tarea3_22octubre.ipynb\" target=\"_parent\"><img src=\"https://colab.research.google.com/assets/colab-badge.svg\" alt=\"Open In Colab\"/></a>"
      ]
    },
    {
      "cell_type": "code",
      "metadata": {
        "id": "sKREeZuYteNE",
        "outputId": "4d359f33-e9af-4bc8-e63a-c701eb0dc094",
        "colab": {
          "base_uri": "https://localhost:8080/",
          "height": 102
        }
      },
      "source": [
        "class Persona:\n",
        "  def __init__( self, nam, ed, est):\n",
        "   self.__nombre = nam\n",
        "   self.__edad = ed\n",
        "   self.__estatura = est\n",
        "\n",
        "  def to_string( self ):\n",
        "   return 'Nombre:'+self.__nombre + '\\nEdad:'+self.__edad + '\\nEstatura:'+self.__estatura\n",
        "\n",
        "  def dormir():\n",
        "    print( \"Durmiendo\" )\n",
        "\n",
        "  def comer():\n",
        "    print( \"Comiendo\" )\n",
        "\n",
        "per = Persona(' Yeonjun', ' 21 años', ' 1.8 m' )\n",
        "print(per.to_string())\n",
        "\n",
        "Persona.comer()\n",
        "Persona.dormir()"
      ],
      "execution_count": 42,
      "outputs": [
        {
          "output_type": "stream",
          "text": [
            "Nombre: Yeonjun\n",
            "Edad: 21 años\n",
            "Estatura: 1.8 m\n",
            "Comiendo\n",
            "Durmiendo\n"
          ],
          "name": "stdout"
        }
      ]
    },
    {
      "cell_type": "code",
      "metadata": {
        "id": "j474HLUC4A4N",
        "outputId": "97afb260-0118-4b04-e5cf-7daad24267ea",
        "colab": {
          "base_uri": "https://localhost:8080/",
          "height": 102
        }
      },
      "source": [
        "class Celular:\n",
        "  def __init__( self, m, mod, es):\n",
        "   self.__marca = m\n",
        "   self.__modelo = mod\n",
        "   self.__espacioMemoria = es\n",
        "\n",
        "  def to_string( self ):\n",
        "   return 'Marca:'+self.__marca + '\\nModelo:'+self.__modelo + '\\nEspacio de Memoria:'+self.__espacioMemoria\n",
        "\n",
        "  def llamar():\n",
        "    print( \"Llamando\" )\n",
        "\n",
        "  def poner_alarma():\n",
        "    print( \"Configurando tiempo, fecha y tono\" )\n",
        "\n",
        "cel = Celular(' Samsung', ' Galaxy Z Flip', ' 256 GB' )\n",
        "print(cel.to_string())\n",
        "\n",
        "Celular.llamar()\n",
        "Celular.poner_alarma()"
      ],
      "execution_count": 43,
      "outputs": [
        {
          "output_type": "stream",
          "text": [
            "Marca: Samsung\n",
            "Modelo: Galaxy Z Flip\n",
            "Espacio de Memoria: 256 GB\n",
            "Llamando\n",
            "Configurando tiempo, fecha y tono\n"
          ],
          "name": "stdout"
        }
      ]
    }
  ]
}