{
  "nbformat": 4,
  "nbformat_minor": 0,
  "metadata": {
    "colab": {
      "name": "15octubre_1310.ipynb",
      "provenance": [],
      "authorship_tag": "ABX9TyMBbftvTutXpc9vEuWgB0iv",
      "include_colab_link": true
    },
    "kernelspec": {
      "name": "python3",
      "display_name": "Python 3"
    }
  },
  "cells": [
    {
      "cell_type": "markdown",
      "metadata": {
        "id": "view-in-github",
        "colab_type": "text"
      },
      "source": [
        "<a href=\"https://colab.research.google.com/github/MirshaNohely/edd_1310_2021/blob/master/15octubre_1310.ipynb\" target=\"_parent\"><img src=\"https://colab.research.google.com/assets/colab-badge.svg\" alt=\"Open In Colab\"/></a>"
      ]
    },
    {
      "cell_type": "markdown",
      "metadata": {
        "id": "h9uMhBq9Cr07"
      },
      "source": [
        "#Modulos\n",
        "\n",
        "Son recursos reutilizables que contienen varias funciones que pueden ser importadas a tu código"
      ]
    },
    {
      "cell_type": "code",
      "metadata": {
        "id": "xdo9szSMbKD-",
        "outputId": "aff98e7f-2352-4c37-e009-ffd45b9a4e5e",
        "colab": {
          "base_uri": "https://localhost:8080/",
          "height": 35
        }
      },
      "source": [
        "\"\"\"\n",
        "import mi_modulo\n",
        "\n",
        "x = mi_modulo.sumar(4,7)\n",
        "print(x)\n",
        "\n",
        "print(mi_modulo.multiplicar(3,5))\n",
        "\n",
        "\"\"\""
      ],
      "execution_count": 45,
      "outputs": [
        {
          "output_type": "execute_result",
          "data": {
            "application/vnd.google.colaboratory.intrinsic+json": {
              "type": "string"
            },
            "text/plain": [
              "'\\nimport mi_modulo\\n\\nx = mi_modulo.sumar(4,7)\\nprint(x)\\n\\nprint(mi_modulo.multiplicar(3,5))\\n\\n'"
            ]
          },
          "metadata": {
            "tags": []
          },
          "execution_count": 45
        }
      ]
    },
    {
      "cell_type": "code",
      "metadata": {
        "id": "HZiLieuxCv2B",
        "outputId": "271ab69b-2b05-47d1-8c06-c3d0cfce269a",
        "colab": {
          "base_uri": "https://localhost:8080/",
          "height": 34
        }
      },
      "source": [
        "import mi_modulo\n",
        "\n",
        "x = mi_modulo.sumar( 4 , 7 )\n",
        "\n",
        "print(x)\n",
        "#bibliotecas estandar estan configuradas segun el lenguaje de programacion\n",
        "#en una ruta general del sistema operativo\n",
        "\n"
      ],
      "execution_count": 25,
      "outputs": [
        {
          "output_type": "stream",
          "text": [
            "11\n"
          ],
          "name": "stdout"
        }
      ]
    },
    {
      "cell_type": "code",
      "metadata": {
        "id": "b0sYqEFwFf1Q",
        "outputId": "c6f24da2-ca28-43ab-c7a6-bd593a988898",
        "colab": {
          "base_uri": "https://localhost:8080/",
          "height": 34
        }
      },
      "source": [
        "cd/content/"
      ],
      "execution_count": 23,
      "outputs": [
        {
          "output_type": "stream",
          "text": [
            "/content\n"
          ],
          "name": "stdout"
        }
      ]
    },
    {
      "cell_type": "code",
      "metadata": {
        "id": "uWyiKJ4mLNBj",
        "outputId": "6720f531-fcb6-4fbf-c914-39529aa37f90",
        "colab": {
          "base_uri": "https://localhost:8080/",
          "height": 34
        }
      },
      "source": [
        "import mi_modulo as patito\n",
        "\n",
        "print(patito.sumar(4,6))"
      ],
      "execution_count": 26,
      "outputs": [
        {
          "output_type": "stream",
          "text": [
            "10\n"
          ],
          "name": "stdout"
        }
      ]
    },
    {
      "cell_type": "code",
      "metadata": {
        "id": "Q5oPYCWyKaYE"
      },
      "source": [
        "\"\"\"from mi_modulo import sumar(4,7)\\n\\nprint(x)\\n\\nprint(mi_modulo.miltiplicar(3,5))\\n\"\"\""
      ],
      "execution_count": null,
      "outputs": []
    },
    {
      "cell_type": "code",
      "metadata": {
        "id": "L2thRVgBLCPD",
        "outputId": "6de6ba34-3c8a-4c63-ba5c-d4695ebee6f1",
        "colab": {
          "base_uri": "https://localhost:8080/",
          "height": 51
        }
      },
      "source": [
        "from mi_modulo import sumar, dividir\n",
        "\n",
        "print(sumar(4, 7))\n",
        "print(dividir(14,7))"
      ],
      "execution_count": 29,
      "outputs": [
        {
          "output_type": "stream",
          "text": [
            "11\n",
            "2.0\n"
          ],
          "name": "stdout"
        }
      ]
    },
    {
      "cell_type": "code",
      "metadata": {
        "id": "gfx9KaZXOJ-G",
        "outputId": "10226794-3bc1-4056-9f43-e387687f2fcc",
        "colab": {
          "base_uri": "https://localhost:8080/",
          "height": 34
        }
      },
      "source": [
        "pip --version"
      ],
      "execution_count": 30,
      "outputs": [
        {
          "output_type": "stream",
          "text": [
            "pip 19.3.1 from /usr/local/lib/python3.6/dist-packages/pip (python 3.6)\n"
          ],
          "name": "stdout"
        }
      ]
    },
    {
      "cell_type": "code",
      "metadata": {
        "id": "onCReFrDPYvm",
        "outputId": "5de43992-3da1-4521-a710-3c9538aaad7a",
        "colab": {
          "base_uri": "https://localhost:8080/",
          "height": 275
        }
      },
      "source": [
        "pip install joke-generator"
      ],
      "execution_count": 31,
      "outputs": [
        {
          "output_type": "stream",
          "text": [
            "Collecting joke-generator\n",
            "  Downloading https://files.pythonhosted.org/packages/95/e5/de76c4aff315ad38ab69cd25ea942250a51008e910905c1f8ef80265b15b/joke_generator-1.0.1.tar.gz\n",
            "Requirement already satisfied: requests>=2.22.0 in /usr/local/lib/python3.6/dist-packages (from joke-generator) (2.23.0)\n",
            "Requirement already satisfied: urllib3!=1.25.0,!=1.25.1,<1.26,>=1.21.1 in /usr/local/lib/python3.6/dist-packages (from requests>=2.22.0->joke-generator) (1.24.3)\n",
            "Requirement already satisfied: chardet<4,>=3.0.2 in /usr/local/lib/python3.6/dist-packages (from requests>=2.22.0->joke-generator) (3.0.4)\n",
            "Requirement already satisfied: certifi>=2017.4.17 in /usr/local/lib/python3.6/dist-packages (from requests>=2.22.0->joke-generator) (2020.6.20)\n",
            "Requirement already satisfied: idna<3,>=2.5 in /usr/local/lib/python3.6/dist-packages (from requests>=2.22.0->joke-generator) (2.10)\n",
            "Building wheels for collected packages: joke-generator\n",
            "  Building wheel for joke-generator (setup.py) ... \u001b[?25l\u001b[?25hdone\n",
            "  Created wheel for joke-generator: filename=joke_generator-1.0.1-cp36-none-any.whl size=2075 sha256=5c9cfd869e102f586473795d6b590d9c3cc7ae59fc9e4b4d778572f410729508\n",
            "  Stored in directory: /root/.cache/pip/wheels/b1/e1/1c/42a5a669d05834c31aab52f6f87b1c7d50718f7669d51bd347\n",
            "Successfully built joke-generator\n",
            "Installing collected packages: joke-generator\n",
            "Successfully installed joke-generator-1.0.1\n"
          ],
          "name": "stdout"
        }
      ]
    },
    {
      "cell_type": "code",
      "metadata": {
        "id": "q0cl9d1gPtaI",
        "outputId": "565561ff-d84c-4bb1-b0cc-2b6dce6a76cd",
        "colab": {
          "base_uri": "https://localhost:8080/",
          "height": 35
        }
      },
      "source": [
        "from joke_generator import generate\n",
        "generate()"
      ],
      "execution_count": 32,
      "outputs": [
        {
          "output_type": "execute_result",
          "data": {
            "application/vnd.google.colaboratory.intrinsic+json": {
              "type": "string"
            },
            "text/plain": [
              "'What is the leading cause of dry skin? Towels'"
            ]
          },
          "metadata": {
            "tags": []
          },
          "execution_count": 32
        }
      ]
    },
    {
      "cell_type": "markdown",
      "metadata": {
        "id": "2N0qoUxSSRCI"
      },
      "source": [
        "#Archivos\n",
        "- open(str, str)\n",
        "\n",
        "      1.-Nombre o ruta del archivo\n",
        "\n",
        "      2.-Dos caracteres\n",
        "\n",
        "        - Modo de apertura del archivo (r, w, a appen si y solo si el archivo existe , x append si y solo si el archivo no existe)\n",
        "        - Formato del archivo (t o b)"
      ]
    },
    {
      "cell_type": "code",
      "metadata": {
        "id": "8v04P1_rTrjT"
      },
      "source": [
        "archivo = open(\"saludo.txt\",\"wt\")\n",
        "archivo.write(\"Hola mundo \\n ola k ase\")\n",
        "#la funcion write escribe el numero de caracteres de lo que se escribio, tambien interpreta las lineas de codigo como si fuera la consola de python\n",
        "archivo.close()"
      ],
      "execution_count": 37,
      "outputs": []
    },
    {
      "cell_type": "code",
      "metadata": {
        "id": "PkI86zViUdpC"
      },
      "source": [
        "#leer archivo\n",
        "#otro = open('./sample_data/anscombe.json', \"rt\")#rb\n",
        "#datos = otro.read()\n",
        "#print(datos)\n",
        "#otro.close()"
      ],
      "execution_count": null,
      "outputs": []
    },
    {
      "cell_type": "code",
      "metadata": {
        "id": "E1Fy-45iWTDr",
        "outputId": "085929b3-0ec3-426f-e4d1-94a04d6d4198",
        "colab": {
          "base_uri": "https://localhost:8080/",
          "height": 255
        }
      },
      "source": [
        "arch = open('frutas.txt', 'rt')\n",
        "print(arch.readline())#regresa la primera linea\n",
        "print(arch.readline())#regresa la segunda linea\n",
        "print(arch.readline())#regresa la tercera\n",
        "print(arch.readline())#en la cuarta no hay nada y regresa nada\n",
        "arch.close()\n",
        "\n",
        "arch = open('frutas.txt', 'rt')\n",
        "data = 'ppp'\n",
        "while (data != ''):\n",
        "  data = arch.readline()\n",
        "  print(data)\n",
        "arch.close()\n",
        "\n",
        "\n"
      ],
      "execution_count": 42,
      "outputs": [
        {
          "output_type": "stream",
          "text": [
            "manzana, pera, kiwi, aguacate\n",
            "\n",
            "limon, naranja\n",
            "\n",
            "sandia, papaya\n",
            "\n",
            "\n",
            "manzana, pera, kiwi, aguacate\n",
            "\n",
            "limon, naranja\n",
            "\n",
            "sandia, papaya\n",
            "\n",
            "\n"
          ],
          "name": "stdout"
        }
      ]
    },
    {
      "cell_type": "code",
      "metadata": {
        "id": "Tvo4BiskY9EN",
        "outputId": "430960d2-10bc-45d8-a18d-8f967223fe69",
        "colab": {
          "base_uri": "https://localhost:8080/",
          "height": 34
        }
      },
      "source": [
        "\n",
        "arch = open('frutas.txt', 'rt')\n",
        "list_frutas = arch.readlines()\n",
        "print(list_frutas)\n",
        "arch.close()"
      ],
      "execution_count": 44,
      "outputs": [
        {
          "output_type": "stream",
          "text": [
            "['manzana, pera, kiwi, aguacate\\n', 'limon, naranja\\n', 'sandia, papaya\\n']\n"
          ],
          "name": "stdout"
        }
      ]
    },
    {
      "cell_type": "code",
      "metadata": {
        "id": "IBeT2gWBWqpa"
      },
      "source": [
        "#mostrar la varible, el tipo de dato, sus metodos, que regresa, \n",
        "#readline \"end of file\", mueve el cursor a la siguiente y regresa la linea que leyo\n",
        "#readlines\"\"regresa listas de archivos\"\n",
        "help(otro)"
      ],
      "execution_count": null,
      "outputs": []
    }
  ]
}