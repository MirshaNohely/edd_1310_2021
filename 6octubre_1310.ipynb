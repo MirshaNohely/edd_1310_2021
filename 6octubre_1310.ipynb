{
  "nbformat": 4,
  "nbformat_minor": 0,
  "metadata": {
    "colab": {
      "name": "Untitled2.ipynb",
      "provenance": [],
      "collapsed_sections": [],
      "authorship_tag": "ABX9TyMvmAX0U/5IbpydlzV/dG/k",
      "include_colab_link": true
    },
    "kernelspec": {
      "name": "python3",
      "display_name": "Python 3"
    }
  },
  "cells": [
    {
      "cell_type": "markdown",
      "metadata": {
        "id": "view-in-github",
        "colab_type": "text"
      },
      "source": [
        "<a href=\"https://colab.research.google.com/github/MirshaNohely/edd_1310_2021/blob/master/6octubre_1310.ipynb\" target=\"_parent\"><img src=\"https://colab.research.google.com/assets/colab-badge.svg\" alt=\"Open In Colab\"/></a>"
      ]
    },
    {
      "cell_type": "code",
      "metadata": {
        "id": "wyPI58Qcqqru",
        "outputId": "7083c6ba-0f1e-444f-c324-dcaf3377b8ec",
        "colab": {
          "base_uri": "https://localhost:8080/",
          "height": 340
        }
      },
      "source": [
        "#String continuacion\n",
        "\n",
        "numeros_txt = \"  1,2,3,4  ,5  ,35 ,15   , 12\"\n",
        "print(numeros_txt)\n",
        "numeros_txt = numeros_txt.lstrip().split(\",\")\n",
        "print(numeros_txt)\n",
        "\n",
        "for j in range(len(numeros_txt)):\n",
        "  numeros_txt[ j ] = int(numeros_txt[j].strip())\n",
        "\n",
        "#lenguaje c\n",
        "#for[int j = 0; j< 9 ; j++]{}\n",
        "#en python se utilizan los tabuladores\n",
        "\n",
        "print(numeros_txt)\n",
        "\n",
        "#ejemplo con iterador-----------\n",
        "#funcion range()\n",
        "\n",
        "#range(inicio, stop, incremento)\n",
        "print(range(1,10,2))\n",
        "rango = range(1,10,2)\n",
        "\n",
        "for x in rango:\n",
        "  print(x)\n",
        "\n",
        "rango = range(10)\n",
        "for x in rango:\n",
        "  print(x)\n",
        "#---------------------------------"
      ],
      "execution_count": 13,
      "outputs": [
        {
          "output_type": "stream",
          "text": [
            "  1,2,3,4  ,5  ,35 ,15   , 12\n",
            "['1', '2', '3', '4  ', '5  ', '35 ', '15   ', ' 12']\n",
            "[1, 2, 3, 4, 5, 35, 15, 12]\n",
            "range(1, 10, 2)\n",
            "1\n",
            "3\n",
            "5\n",
            "7\n",
            "9\n",
            "0\n",
            "1\n",
            "2\n",
            "3\n",
            "4\n",
            "5\n",
            "6\n",
            "7\n",
            "8\n",
            "9\n"
          ],
          "name": "stdout"
        }
      ]
    },
    {
      "cell_type": "markdown",
      "metadata": {
        "id": "QAY-fg6IxUeD"
      },
      "source": [
        "#Listas\n",
        "- mutables\n",
        "- declaran con [ ]\n",
        "- selector[ int ]\n",
        ". pueden ser de cualquier tipo y mezclado\n",
        "\n",
        "#tuplas\n",
        "- No mutables\n",
        "- declaran con( )\n",
        "- selectos [ int ]\n",
        "\n",
        "#diccionarios\n",
        "- son  mutables\n",
        "- son conjunto de pares llave:valor\n",
        "- equivalentes a los objetos JSON de JavaScrip\n",
        "\n",
        "#conjuntos\n",
        "- representacion de la teoria de conjuntos\n"
      ]
    },
    {
      "cell_type": "code",
      "metadata": {
        "id": "xGHt-uaeycQD",
        "outputId": "9c6e4846-89b0-40be-cb34-0f20d63edc51",
        "colab": {
          "base_uri": "https://localhost:8080/",
          "height": 136
        }
      },
      "source": [
        "# Listas(equivalentes a arreglos en otros lenguajes de programacion)\n",
        "frutas = [\"Peras\",\"Manzana\", \"fresa\", \"kiwi\", \"naranja\"]\n",
        "print(frutas)\n",
        "cosas = [\"cuaderno\", 2, 3.1416, True, False, [\"Rojo\",\"Azul\"] ]\n",
        "print(cosas)\n",
        "frutas[2] = \"Fresa\" # frutas[2]= frutas[2].capitalize()\n",
        "#Caplz regresa una version del txt\n",
        "print(frutas)\n",
        "#mutable\n",
        "#agregar, quitar, modificar tipo de dato, sumar dos listas...\n",
        "\n",
        "#Agregar lista\n",
        "frutas.append(\"Aguacate\")#append envia al final\n",
        "print(frutas)\n",
        "frutas.insert(2, \"Sandia\")#enviar a otra posicion, en este caso a 2\n",
        "#en insert, la posicion es obligatoria, solo es opcional cuando en la documentacion se encuartra entre[]\n",
        "print(frutas)\n",
        "\n",
        "#concatenar listas\n",
        "fecha = [\"06\", \"10\", \"2020\"]\n",
        "print(fecha)\n",
        "#06/10/2020 , join concatena, y concatenara con diagonales///\n",
        "fecha_str = \"/\".join(fecha)\n",
        "print(fecha_str)\n",
        "\n",
        "#los generados hacen listas$$$\n",
        "\n",
        "\n",
        "#pop y remove\n",
        "#pop, manda a diferentes pociones con y sin el indice\n",
        "\n",
        "#eliminar cosas\n"
      ],
      "execution_count": null,
      "outputs": [
        {
          "output_type": "stream",
          "text": [
            "['Peras', 'Manzana', 'fresa', 'kiwi', 'naranja']\n",
            "['cuaderno', 2, 3.1416, True, False, ['Rojo', 'Azul']]\n",
            "['Peras', 'Manzana', 'Fresa', 'kiwi', 'naranja']\n",
            "['Peras', 'Manzana', 'Fresa', 'kiwi', 'naranja', 'Aguacate']\n",
            "['Peras', 'Manzana', 'Sandia', 'Fresa', 'kiwi', 'naranja', 'Aguacate']\n",
            "['06', '10', '2020']\n",
            "06/10/2020\n"
          ],
          "name": "stdout"
        }
      ]
    },
    {
      "cell_type": "code",
      "metadata": {
        "id": "hl3HA6ov3W-u",
        "outputId": "334b4cc2-18cc-4fe0-8dde-da3c253983d5",
        "colab": {
          "base_uri": "https://localhost:8080/",
          "height": 238
        }
      },
      "source": [
        "#eliminar elementos\n",
        "cosas = [\"cuaderno\", 2, 3.1416, True, False, [\"Rojo\",\"Azul\"] ]\n",
        "print(cosas)\n",
        "cosas.append(\"Libro\")\n",
        "cosas.append(\"Lapiz\")\n",
        "print(cosas)\n",
        "algo = cosas.pop()#sin indice, saca un dato, que es \"algo\"\n",
        "print(cosas)\n",
        "print(algo)\n",
        "algo = cosas.pop(2)#con indice, saca \"algo\"\n",
        "print(cosas)\n",
        "print(algo)\n",
        "\n",
        "algo = cosas.pop(2)\n",
        "print(cosas)\n",
        "print(algo)\n",
        "cosas.remove(2)\n",
        "print(cosas)\n",
        "print(algo)\n",
        "\n",
        "#vaciar una lista\n",
        "\n",
        "#cosas.clear()\n",
        "print(cosas)\n",
        "\n",
        "#ordenar\n",
        "print(frutas)\n",
        "frutas.sort()\n",
        "print(frutas)\n",
        "#cosas.sort() compara tipo de dato y no tiene congruencia\n",
        "#print(cosas) sale error\n"
      ],
      "execution_count": 34,
      "outputs": [
        {
          "output_type": "stream",
          "text": [
            "['cuaderno', 2, 3.1416, True, False, ['Rojo', 'Azul']]\n",
            "['cuaderno', 2, 3.1416, True, False, ['Rojo', 'Azul'], 'Libro', 'Lapiz']\n",
            "['cuaderno', 2, 3.1416, True, False, ['Rojo', 'Azul'], 'Libro']\n",
            "Lapiz\n",
            "['cuaderno', 2, True, False, ['Rojo', 'Azul'], 'Libro']\n",
            "3.1416\n",
            "['cuaderno', 2, False, ['Rojo', 'Azul'], 'Libro']\n",
            "True\n",
            "['cuaderno', False, ['Rojo', 'Azul'], 'Libro']\n",
            "True\n",
            "['cuaderno', False, ['Rojo', 'Azul'], 'Libro']\n",
            "['Aguacate', 'Fresa', 'Manzana', 'Peras', 'Sandia', 'kiwi', 'naranja']\n",
            "['Aguacate', 'Fresa', 'Manzana', 'Peras', 'Sandia', 'kiwi', 'naranja']\n"
          ],
          "name": "stdout"
        }
      ]
    },
    {
      "cell_type": "code",
      "metadata": {
        "id": "rrwRTHfS7F0S",
        "outputId": "e8723eb0-56be-4b82-bb72-cd24b86c34aa",
        "colab": {
          "base_uri": "https://localhost:8080/",
          "height": 136
        }
      },
      "source": [
        "# slicing\n",
        "\n",
        "cosas = [\"cuaderno\", 2 , 3.1426, True, False, [\"Rojo\", \"Azul\"] ]\n",
        "print(cosas[3:5:1])\n",
        "print(cosas)\n",
        "print(cosas[0][3:5:1])#seleccionar y modificar el slicing\n",
        "\n",
        "numeros = [0,1,2,3,4,5,6,7,8,9,10,11,12,13,14,15]\n",
        "print(numeros[8:13:1])\n",
        "\n",
        "# sustituir rebanadas -2,-2 -> [0,1,2,3,4,5,6,7,8,9,10,11,12,13,14,15]\n",
        "\n",
        "numeros[8:13:] = [-2,-2]\n",
        "print(numeros)\n",
        "\n",
        "# preguntar por existencia\n",
        "print(-2 in numeros)# hay un -2 e los numeros?\n",
        "print(100 in numeros)\n",
        "\n"
      ],
      "execution_count": 44,
      "outputs": [
        {
          "output_type": "stream",
          "text": [
            "[True, False]\n",
            "['cuaderno', 2, 3.1426, True, False, ['Rojo', 'Azul']]\n",
            "de\n",
            "[8, 9, 10, 11, 12]\n",
            "[0, 1, 2, 3, 4, 5, 6, 7, -2, -2, 13, 14, 15]\n",
            "True\n",
            "False\n"
          ],
          "name": "stdout"
        }
      ]
    },
    {
      "cell_type": "markdown",
      "metadata": {
        "id": "bRtzGtzC-jRd"
      },
      "source": [
        "#Listas multidimensión\n",
        "\n",
        "listas dentro de listas"
      ]
    },
    {
      "cell_type": "code",
      "metadata": {
        "id": "vB65GNtt-ty3",
        "outputId": "17799cdf-3f9e-4af5-bb4d-6966f60e3c08",
        "colab": {
          "base_uri": "https://localhost:8080/",
          "height": 207
        }
      },
      "source": [
        "computadoras = [\"HP\", \"Mac Book Pro\", \"Mate Book\", \"Lenovo Legion\" ]\n",
        "oss = [ \"Windows 10\", \"Linux\", \"Android\", \"IOS\" ]\n",
        "\n",
        "computo = [computadoras , oss ]\n",
        "print(computo[0])\n",
        "print(computo[1])\n",
        "print(computo[0][2])\n",
        "print(computo[0][2][0:5])\n",
        "print(computo[0][3][5::-1])\n",
        "print(computo[0][3][-8::-1])\n",
        "print(\"Linux\" in computo[1])#preguntar por existencia, en la sublista computo\n",
        "dbms = [ [\"MySQL\", \"Open Source\", False], [\"MS SQL Server\", \"de paga\", True] ]#sistema gestor de base de datos\n",
        "computo.append(dbms)\n",
        "print(computo)#nivel 3\n",
        "print(computo[2][0][0])\n",
        "print(computo[2][1][1])"
      ],
      "execution_count": 64,
      "outputs": [
        {
          "output_type": "stream",
          "text": [
            "['HP', 'Mac Book Pro', 'Mate Book', 'Lenovo Legion']\n",
            "['Windows 10', 'Linux', 'Android', 'IOS']\n",
            "Mate Book\n",
            "Mate \n",
            "ovoneL\n",
            "ovoneL\n",
            "True\n",
            "[['HP', 'Mac Book Pro', 'Mate Book', 'Lenovo Legion'], ['Windows 10', 'Linux', 'Android', 'IOS'], [['MySQL', 'Open Source', False], ['MS SQL Server', 'de paga', True]]]\n",
            "MySQL\n",
            "de paga\n"
          ],
          "name": "stdout"
        }
      ]
    },
    {
      "cell_type": "code",
      "metadata": {
        "id": "JmNH4hMO125j"
      },
      "source": [
        "help(str)"
      ],
      "execution_count": null,
      "outputs": []
    }
  ]
}