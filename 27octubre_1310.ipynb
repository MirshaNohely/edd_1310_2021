{
  "nbformat": 4,
  "nbformat_minor": 0,
  "metadata": {
    "colab": {
      "name": "27octubre_1310.ipynb",
      "provenance": [],
      "authorship_tag": "ABX9TyNQigv0MSN9HMkTaplObURl",
      "include_colab_link": true
    },
    "kernelspec": {
      "name": "python3",
      "display_name": "Python 3"
    }
  },
  "cells": [
    {
      "cell_type": "markdown",
      "metadata": {
        "id": "view-in-github",
        "colab_type": "text"
      },
      "source": [
        "<a href=\"https://colab.research.google.com/github/MirshaNohely/edd_1310_2021/blob/master/27octubre_1310.ipynb\" target=\"_parent\"><img src=\"https://colab.research.google.com/assets/colab-badge.svg\" alt=\"Open In Colab\"/></a>"
      ]
    },
    {
      "cell_type": "code",
      "metadata": {
        "id": "5tu1nLH8Byg9",
        "outputId": "6b0af898-3994-4549-a701-1250f847ed67",
        "colab": {
          "base_uri": "https://localhost:8080/",
          "height": 68
        }
      },
      "source": [
        "class Computadora:\n",
        "    def __init__( self , m , p):\n",
        "        self.__marca = m\n",
        "        self.__procesador = p\n",
        "\n",
        "    def to_string( self ):\n",
        "        return \"MArca:\"+self.__marca+\" Procesador:\"+self.__procesador\n",
        "\n",
        "    #def set_marca( self , m ) self , atributo que va a tener\n",
        "    def set_marca( self , m ):\n",
        "        self.__marca = m \n",
        "    def get_marca( self ):\n",
        "        return self.__marca\n",
        "\n",
        "    def set_procesador( self , p ):\n",
        "        self.__procesador = p \n",
        "\n",
        "    def get_procesador( self ):\n",
        "        return self.__procesador\n",
        "\n",
        "mi_pc = Computadora(\"Toshiba\",\"Intel i7\")\n",
        "print(mi_pc.to_string())\n",
        "mi_pc.__marca=\"HP \" #intentando cambiar el valor privado\n",
        "mi_pc.set_marca(\"HP co.\")\n",
        "print(mi_pc.to_string())\n",
        "#print(mi_pc.__procesador)\n",
        "print(mi_pc.get_procesador)#para imprimir directamente, esta en privado y se utiliza get"
      ],
      "execution_count": 10,
      "outputs": [
        {
          "output_type": "stream",
          "text": [
            "MArca:Toshiba Procesador:Intel i7\n",
            "MArca:HP co. Procesador:Intel i7\n",
            "<bound method Computadora.get_procesador of <__main__.Computadora object at 0x7fb736bfb630>>\n"
          ],
          "name": "stdout"
        }
      ]
    },
    {
      "cell_type": "markdown",
      "metadata": {
        "id": "ftLS2GyYEUE_"
      },
      "source": [
        "#Encapsulamiento pyton 3\n",
        "##tradicional tipo java\n",
        "    void setAtributo( val )\n",
        "    tipo getStributo(  )\n",
        "##estilo phyton 3\n",
        "UTILIZANDO DECORADORES\n",
        "\n",
        "     * @property\n",
        "     * @atributo.setter"
      ]
    },
    {
      "cell_type": "code",
      "metadata": {
        "id": "-aN0LffiH4lX",
        "outputId": "9f419a45-d999-432f-c503-b46e6293ef0e",
        "colab": {
          "base_uri": "https://localhost:8080/",
          "height": 102
        }
      },
      "source": [
        "class Computadora:\n",
        "    def __init__( self , m , p):\n",
        "        self.marca = m #aqui no se declara, por eso .marca en vez de .__marca #se manda llamar el decorador @property\n",
        "        self.procesador = p #idem\n",
        "\n",
        "    @property #declara como atributo privado y funciona como metodo get\n",
        "    def marca( self ):\n",
        "        return self.__marca\n",
        "\n",
        "    @marca.setter\n",
        "    def marca( self , m ):\n",
        "        print(\"En el setter MARCA\")\n",
        "        self.__marca = m \n",
        "\n",
        "    @property\n",
        "    def procesador( self ):\n",
        "        return self.__procesador\n",
        "\n",
        "    @procesador.setter\n",
        "    def procesador( self , p ):\n",
        "        print(\"En el metodo set de procesador\")#indicando las veces que se manda a llamar set\n",
        "        self.__procesador = p\n",
        "\n",
        "    def to_string( self ):\n",
        "        return \"marca:\" + self.marca + \" Procesador:\" + self.procesador\n",
        "\n",
        "mi_pc2 = Computadora(\"Marca Book\", \"Intel i7\")\n",
        "print( mi_pc2.to_string() )\n",
        "mi_pc2.marca = \"Dell\" #set\n",
        "print( mi_pc2.to_string() )\n"
      ],
      "execution_count": 22,
      "outputs": [
        {
          "output_type": "stream",
          "text": [
            "En el setter MARCA\n",
            "En el metodo set de procesador\n",
            "marca:Marca Book Procesador:Intel i7\n",
            "En el setter MARCA\n",
            "marca:Dell Procesador:Intel i7\n"
          ],
          "name": "stdout"
        }
      ]
    },
    {
      "cell_type": "code",
      "metadata": {
        "id": "SemRdkQsQle-",
        "outputId": "690e6da2-0a2f-4d06-fe10-ebf33595ccf5",
        "colab": {
          "base_uri": "https://localhost:8080/",
          "height": 85
        }
      },
      "source": [
        "#HERENCIA , pasando la clase a la declaracion\n",
        "class ServidorEmpresarial(Computadora):\n",
        "    def __init__( self ):\n",
        "        print(\"Hola servidor\")\n",
        "\n",
        "#server = servidor(\"HP\",\"\")\n",
        "server = ServidorEmpresarial()\n",
        "server.marca = \"Sun Micro Systems\"\n",
        "server.procesador = \"INTEL I7\"\n",
        "print(server.to_string())"
      ],
      "execution_count": 25,
      "outputs": [
        {
          "output_type": "stream",
          "text": [
            "Hola servidor\n",
            "En el setter MARCA\n",
            "En el metodo set de procesador\n",
            "marca:Sun Micro Systems Procesador:INTEL I7\n"
          ],
          "name": "stdout"
        }
      ]
    }
  ]
}