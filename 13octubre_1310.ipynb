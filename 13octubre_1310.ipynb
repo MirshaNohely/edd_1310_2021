{
  "nbformat": 4,
  "nbformat_minor": 0,
  "metadata": {
    "colab": {
      "name": "13octubre_1310.ipynb",
      "provenance": [],
      "collapsed_sections": [],
      "authorship_tag": "ABX9TyOvDEL9EB5XS8T4my4QIVmj",
      "include_colab_link": true
    },
    "kernelspec": {
      "name": "python3",
      "display_name": "Python 3"
    }
  },
  "cells": [
    {
      "cell_type": "markdown",
      "metadata": {
        "id": "view-in-github",
        "colab_type": "text"
      },
      "source": [
        "<a href=\"https://colab.research.google.com/github/MirshaNohely/edd_1310_2021/blob/master/13octubre_1310.ipynb\" target=\"_parent\"><img src=\"https://colab.research.google.com/assets/colab-badge.svg\" alt=\"Open In Colab\"/></a>"
      ]
    },
    {
      "cell_type": "code",
      "metadata": {
        "id": "RnbyD2_2ug2G"
      },
      "source": [
        "alumno = { \n",
        "          \"num_cta\" : 303030303 ,\n",
        "          \"carrera\" : \"ICO\",\n",
        "          \"promedio\" : 9.8,\n",
        "          \"materias\" :[\"EDD\",\"CyP\",\"Calidad\",\"Emprendimiento\"],\n",
        "          \"direccion\" : { \n",
        "                            \"calle\":\"rancho seco\",\n",
        "                            \"numero\" : 23 ,\n",
        "                            \"delegacion\" : \"Neza\",\n",
        "                            \"estado\" : {\n",
        "                                        \"id\" : 15 ,\n",
        "                                        \"nombre\" : \"Estado de Máxico\" ,\n",
        "                                        \"nombre_corto\" : \"EdoMex\"\n",
        "                                        } ,\n",
        "                            \"CP\":57170\n",
        "\n",
        "                        } \n",
        "          }\n",
        "          print(alumno)\n",
        "          alumno['carrera'] = \"Ingenieria en computacion\"\n",
        "          print(alumno)\n",
        "          alumno['nombre_completo']={ 'primer': \"Juan\",\n",
        "                                     'segundo':\"Pedro\",\n",
        "                                     'materno':\"Perez\",\n",
        "                                     'paterno': \"Gomez\"\n",
        "              \n",
        "                                    }\n",
        "          alumno['semestre']=3\n",
        "          print(alumno)\n",
        "          print(f*{alumno['nombre_completo']['primer']}{alumno['nombre_completo']['segundo']})\n",
        "\n",
        "#key() , values() y items()\n",
        "\n",
        "llaves = alumno.keys()\n",
        "print(llaves)\n",
        "for llave in llaves:\n",
        "    print(llave.upper())\n",
        "\n",
        "valores = alumno.values()\n",
        "for val in valores:\n",
        "    print(val)\n",
        "\n",
        "pares=alumno.items()\n",
        "print(pares)\n",
        "for elem in pares:\n",
        "  print(f\"el campo { elem[0]} tiene el valor {elem[1]}\")"
      ],
      "execution_count": null,
      "outputs": []
    },
    {
      "cell_type": "code",
      "metadata": {
        "id": "R-BXFaFn08j5",
        "outputId": "a916f696-4157-4f53-fac8-df3eba147954",
        "colab": {
          "base_uri": "https://localhost:8080/",
          "height": 34
        }
      },
      "source": [
        "computadora = {\"procesador\":\"intel\",\"ram\":\"kingston 12GB\"}\n",
        "otros ={ \"monitor\":\"LG 49\\\"\",\"hd\":\"Toshiba itb\"}\n",
        "computadora.update(otros)\n",
        "print(computadora)"
      ],
      "execution_count": null,
      "outputs": [
        {
          "output_type": "stream",
          "text": [
            "{'procesador': 'intel', 'ram': 'kingston 12GB', 'monitor': 'LG 49\"', 'hd': 'Toshiba itb'}\n"
          ],
          "name": "stdout"
        }
      ]
    },
    {
      "cell_type": "markdown",
      "metadata": {
        "id": "mkTdCake23RJ"
      },
      "source": [
        "#funciones\n",
        "- unidades de código reutilizable\n",
        "- es un mecanismo de organizacion de codigo\n",
        "- Una funcion toma de 0 a n parametros de entrada\n",
        "-tiene una sola salida (return) de cualquier tipo de dato\n",
        "- solo puedes hacer dos cosas:\n",
        "\n",
        "    - definirla\n",
        "\n",
        "    - llamarla\n",
        "-Se define con la palabra reservada 'def'"
      ]
    },
    {
      "cell_type": "code",
      "metadata": {
        "id": "LF2Dp_UO50t5"
      },
      "source": [
        ""
      ],
      "execution_count": null,
      "outputs": []
    },
    {
      "cell_type": "code",
      "metadata": {
        "id": "M9xQ6mu03_Xw"
      },
      "source": [
        "def sumar(x, y):\n",
        "  resultado = x + y\n",
        "  return resultado\n",
        "\n",
        "def saludar(nombre):\n",
        "  print(f\"Hola{nombre}, ¿Cómo estás?\")\n",
        "  return none #lo mismo a no poner return\n",
        "\n",
        "# procesar none\n",
        "def multiplicar (valor, veces):\n",
        "  if valor != None:\n",
        "    c= valor + veces\n",
        "  else:\n",
        "    c = \"operacion no valida\"\n",
        "return e\n",
        "\n",
        "  print(sumar(10,5))\n",
        "  print(sumar(2,6))\n",
        "  c = sumar(3,7)\n",
        "  print(c)\n",
        "  saludar(\"Jesus\")\n",
        "  print(saludar('Jose'))\n",
        "  print(multiplicar(5,6))\n",
        "  print(multiplicar(none,6))"
      ],
      "execution_count": null,
      "outputs": []
    }
  ]
}