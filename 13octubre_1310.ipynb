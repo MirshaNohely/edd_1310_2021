{
  "nbformat": 4,
  "nbformat_minor": 0,
  "metadata": {
    "colab": {
      "name": "13octubre_1310.ipynb",
      "provenance": [],
      "collapsed_sections": [],
      "authorship_tag": "ABX9TyNFUklQSEgk1wCwBzF9zRKW",
      "include_colab_link": true
    },
    "kernelspec": {
      "name": "python3",
      "display_name": "Python 3"
    }
  },
  "cells": [
    {
      "cell_type": "markdown",
      "metadata": {
        "id": "view-in-github",
        "colab_type": "text"
      },
      "source": [
        "<a href=\"https://colab.research.google.com/github/MirshaNohely/edd_1310_2021/blob/master/13octubre_1310.ipynb\" target=\"_parent\"><img src=\"https://colab.research.google.com/assets/colab-badge.svg\" alt=\"Open In Colab\"/></a>"
      ]
    },
    {
      "cell_type": "code",
      "metadata": {
        "id": "RnbyD2_2ug2G",
        "outputId": "aa1ce385-c34e-4da8-d015-0b1eec2c6230",
        "colab": {
          "base_uri": "https://localhost:8080/",
          "height": 496
        }
      },
      "source": [
        "#Retomacion de la clase anterior.......................................\n",
        "alumno = { \n",
        "          \"num_cta\" : 303030303 ,\n",
        "          \"carrera\" : \"ICO\",\n",
        "          \"promedio\" : 9.8,\n",
        "          \"materias\" :[\"EDD\",\"CyP\",\"Calidad\",\"Emprendimiento\"],\n",
        "          \"direccion\" : { \n",
        "                            \"calle\":\"rancho seco\",\n",
        "                            \"numero\" : 23 ,\n",
        "                            \"delegacion\" : \"Neza\",\n",
        "                            \"estado\" : {\n",
        "                                        \"id\" : 15 ,\n",
        "                                        \"nombre\" : \"Estado de Máxico\" ,\n",
        "                                        \"nombre_corto\" : \"EdoMex\"\n",
        "                                        } ,\n",
        "                            \"CP\":57170\n",
        "\n",
        "                        } \n",
        "          }#....................................................................\n",
        "\n",
        "print(alumno)\n",
        "alumno['carrera'] = \"Ingenieria en computacion\"\n",
        "print(alumno)\n",
        "alumno['nombre_completo']={ 'primer': \"Juan\",\n",
        "                                     'segundo':\"Pedro\",\n",
        "                                     'materno':\"Perez\",\n",
        "                                     'paterno': \"Gomez\"\n",
        "              \n",
        "                                    }\n",
        "alumno['semestre']=3\n",
        "print(alumno)\n",
        "print(f\"{alumno['nombre_completo']['primer']}{alumno['nombre_completo']['segundo']}\")\n",
        "\n",
        "#key() , values() y items()\n",
        "\n",
        "llaves = alumno.keys()\n",
        "print(llaves)\n",
        "for llave in llaves:\n",
        "    print(llave.upper())\n",
        "\n",
        "valores = alumno.values()\n",
        "for val in valores:\n",
        "    print(val)\n",
        "\n",
        "pares=alumno.items()\n",
        "print(pares)\n",
        "for elem in pares:\n",
        "  print(f\"el campo { elem[0]} tiene el valor {elem[1]}\")"
      ],
      "execution_count": null,
      "outputs": [
        {
          "output_type": "stream",
          "text": [
            "{'num_cta': 303030303, 'carrera': 'ICO', 'promedio': 9.8, 'materias': ['EDD', 'CyP', 'Calidad', 'Emprendimiento'], 'direccion': {'calle': 'rancho seco', 'numero': 23, 'delegacion': 'Neza', 'estado': {'id': 15, 'nombre': 'Estado de Máxico', 'nombre_corto': 'EdoMex'}, 'CP': 57170}}\n",
            "{'num_cta': 303030303, 'carrera': 'Ingenieria en computacion', 'promedio': 9.8, 'materias': ['EDD', 'CyP', 'Calidad', 'Emprendimiento'], 'direccion': {'calle': 'rancho seco', 'numero': 23, 'delegacion': 'Neza', 'estado': {'id': 15, 'nombre': 'Estado de Máxico', 'nombre_corto': 'EdoMex'}, 'CP': 57170}}\n",
            "{'num_cta': 303030303, 'carrera': 'Ingenieria en computacion', 'promedio': 9.8, 'materias': ['EDD', 'CyP', 'Calidad', 'Emprendimiento'], 'direccion': {'calle': 'rancho seco', 'numero': 23, 'delegacion': 'Neza', 'estado': {'id': 15, 'nombre': 'Estado de Máxico', 'nombre_corto': 'EdoMex'}, 'CP': 57170}, 'nombre_completo': {'primer': 'Juan', 'segundo': 'Pedro', 'materno': 'Perez', 'paterno': 'Gomez'}, 'semestre': 3}\n",
            "JuanPedro\n",
            "dict_keys(['num_cta', 'carrera', 'promedio', 'materias', 'direccion', 'nombre_completo', 'semestre'])\n",
            "NUM_CTA\n",
            "CARRERA\n",
            "PROMEDIO\n",
            "MATERIAS\n",
            "DIRECCION\n",
            "NOMBRE_COMPLETO\n",
            "SEMESTRE\n",
            "303030303\n",
            "Ingenieria en computacion\n",
            "9.8\n",
            "['EDD', 'CyP', 'Calidad', 'Emprendimiento']\n",
            "{'calle': 'rancho seco', 'numero': 23, 'delegacion': 'Neza', 'estado': {'id': 15, 'nombre': 'Estado de Máxico', 'nombre_corto': 'EdoMex'}, 'CP': 57170}\n",
            "{'primer': 'Juan', 'segundo': 'Pedro', 'materno': 'Perez', 'paterno': 'Gomez'}\n",
            "3\n",
            "dict_items([('num_cta', 303030303), ('carrera', 'Ingenieria en computacion'), ('promedio', 9.8), ('materias', ['EDD', 'CyP', 'Calidad', 'Emprendimiento']), ('direccion', {'calle': 'rancho seco', 'numero': 23, 'delegacion': 'Neza', 'estado': {'id': 15, 'nombre': 'Estado de Máxico', 'nombre_corto': 'EdoMex'}, 'CP': 57170}), ('nombre_completo', {'primer': 'Juan', 'segundo': 'Pedro', 'materno': 'Perez', 'paterno': 'Gomez'}), ('semestre', 3)])\n",
            "el campo num_cta tiene el valor 303030303\n",
            "el campo carrera tiene el valor Ingenieria en computacion\n",
            "el campo promedio tiene el valor 9.8\n",
            "el campo materias tiene el valor ['EDD', 'CyP', 'Calidad', 'Emprendimiento']\n",
            "el campo direccion tiene el valor {'calle': 'rancho seco', 'numero': 23, 'delegacion': 'Neza', 'estado': {'id': 15, 'nombre': 'Estado de Máxico', 'nombre_corto': 'EdoMex'}, 'CP': 57170}\n",
            "el campo nombre_completo tiene el valor {'primer': 'Juan', 'segundo': 'Pedro', 'materno': 'Perez', 'paterno': 'Gomez'}\n",
            "el campo semestre tiene el valor 3\n"
          ],
          "name": "stdout"
        }
      ]
    },
    {
      "cell_type": "code",
      "metadata": {
        "id": "R-BXFaFn08j5",
        "outputId": "ab02d85b-e298-48cf-9533-646b812dfb8b",
        "colab": {
          "base_uri": "https://localhost:8080/",
          "height": 34
        }
      },
      "source": [
        "computadora = {\"procesador\":\"intel\",\"ram\":\"kingston 12GB\"}\n",
        "otros ={ \"monitor\":\"LG 49\\\"\",\"hd\":\"Toshiba itb\"}\n",
        "computadora.update(otros)\n",
        "print(computadora)"
      ],
      "execution_count": null,
      "outputs": [
        {
          "output_type": "stream",
          "text": [
            "{'procesador': 'intel', 'ram': 'kingston 12GB', 'monitor': 'LG 49\"', 'hd': 'Toshiba itb'}\n"
          ],
          "name": "stdout"
        }
      ]
    },
    {
      "cell_type": "markdown",
      "metadata": {
        "id": "mkTdCake23RJ"
      },
      "source": [
        "#funciones\n",
        "- unidades de código reutilizable\n",
        "- es un mecanismo de organizacion de codigo\n",
        "- Una funcion toma de 0 a n parametros de entrada\n",
        "-tiene una sola salida (return) de cualquier tipo de dato\n",
        "- solo puedes hacer dos cosas:\n",
        "\n",
        "    - definirla\n",
        "\n",
        "    - llamarla\n",
        "-Se define con la palabra reservada 'def'"
      ]
    },
    {
      "cell_type": "code",
      "metadata": {
        "id": "LF2Dp_UO50t5"
      },
      "source": [
        ""
      ],
      "execution_count": null,
      "outputs": []
    },
    {
      "cell_type": "code",
      "metadata": {
        "id": "M9xQ6mu03_Xw",
        "outputId": "832ff36a-5112-4107-fa17-1fa9d07a361d",
        "colab": {
          "base_uri": "https://localhost:8080/",
          "height": 204
        }
      },
      "source": [
        "def sumar(x, y):\n",
        "  resultado = x + y\n",
        "  return resultado\n",
        "\n",
        "def saludar(nombre):\n",
        "  print(f\"Hola{nombre}, ¿Cómo estás?\")\n",
        "  #return none #lo mismo a no poner return\n",
        "\n",
        "# procesar none\n",
        "def multiplicar (valor, veces):\n",
        "  if valor != None:\n",
        "    c= valor + veces\n",
        "  else:\n",
        "    c = \"operacion no valida\"\n",
        "  return c\n",
        "\n",
        "def operaciones(a, b, c):\n",
        "  res = a +(b/c)\n",
        "  return res \n",
        "\n",
        "\n",
        "\n",
        "print(sumar(10,5))\n",
        "print(sumar(2,6))\n",
        "c = sumar(3,7)\n",
        "print(c)\n",
        "saludar(\"Jesus\")\n",
        "print(saludar('Jose'))\n",
        "print(multiplicar(5,6))\n",
        "print(multiplicar(None,6))\n",
        "print(operaciones(2,9,3))\n",
        "print(operaciones(2,3,9))\n",
        "\n",
        "print(operaciones(a=2, c=3, b=9))\n"
      ],
      "execution_count": null,
      "outputs": [
        {
          "output_type": "stream",
          "text": [
            "15\n",
            "8\n",
            "10\n",
            "HolaJesus, ¿Cómo estás?\n",
            "HolaJose, ¿Cómo estás?\n",
            "None\n",
            "11\n",
            "operacion no valida\n",
            "5.0\n",
            "2.3333333333333335\n",
            "5.0\n"
          ],
          "name": "stdout"
        }
      ]
    },
    {
      "cell_type": "code",
      "metadata": {
        "id": "DU0yVc1g_FCO",
        "outputId": "ad6de7c6-bc01-48e2-8cb0-cb8568e62e26",
        "colab": {
          "base_uri": "https://localhost:8080/",
          "height": 272
        }
      },
      "source": [
        "#valores por defecto\n",
        "def comanda(primer, fuerte, postre=\"galleta de animalito\"):#por defecto, existe este valor ya planteado entonces es lo que se imprime al pedir postre.\n",
        "  print(f\"De entrada pidio:{primer}\")\n",
        "  print(f\"De plato fuerte {fuerte}\")\n",
        "  print(f\"Postre:{postre}\")\n",
        "\n",
        "comanda(\"sopa aguada\", \"Tortas de papa\", \"Gelatina de limon\")\n",
        "comanda(\"sopa aguada\",\"Tortas de papa\")#aqui ya agrega por defecto\n",
        "print(\"--------------------------------------------------------------------------------------------------\")\n",
        "\n",
        "#argumentos posicionales con tuplas\n",
        "def comanda_2(*opciones):\n",
        "  print(opciones)\n",
        "  print(f\"De entrada pidio:{opciones[0]}\")\n",
        "  print(f\"De plato fuerte {opciones[1]}\")\n",
        "  print(f\"Postre:{opciones[2]}\")\n",
        "  print(\"\\nIndicaciones extra:\")\n",
        "  for ind in opciones[3::]:\n",
        "    print(f\"\\t {ind}\")\n",
        "#comanda(\"sopa aguada\", \"Tortas de papa\", \"Gelatina de limon\")\n",
        "#comanda(\"sopa aguada\",\"Tortas de papa\")\n",
        "comanda_2(\"sopa aguada\",\"tortas de papa\",\"gelatina de limon\",\"las tortas bien doradas\",\"traer dos limones\")\n"
      ],
      "execution_count": null,
      "outputs": [
        {
          "output_type": "stream",
          "text": [
            "De entrada pidio:sopa aguada\n",
            "De plato fuerte Tortas de papa\n",
            "Postre:Gelatina de limon\n",
            "De entrada pidio:sopa aguada\n",
            "De plato fuerte Tortas de papa\n",
            "Postre:galleta de animalito\n",
            "--------------------------------------------------------------------------------------------------\n",
            "('sopa aguada', 'tortas de papa', 'gelatina de limon', 'las tortas bien doradas', 'traer dos limones')\n",
            "De entrada pidio:sopa aguada\n",
            "De plato fuerte tortas de papa\n",
            "Postre:gelatina de limon\n",
            "\n",
            "Indicaciones extra:\n",
            "\t las tortas bien doradas\n",
            "\t traer dos limones\n"
          ],
          "name": "stdout"
        }
      ]
    },
    {
      "cell_type": "code",
      "metadata": {
        "id": "Vdws_mFLB5af",
        "outputId": "f0015df2-7c04-41df-cbcb-e91893508636",
        "colab": {
          "base_uri": "https://localhost:8080/",
          "height": 136
        }
      },
      "source": [
        "#argumentos posicionales con tuplas\n",
        "def comanda_3(**opciones):\n",
        "  print(opciones)\n",
        "  for op in opciones.items():\n",
        "    print(f\"{op[0]} -> {op[1]}\")\n",
        "comanda_3(primer=\"sopa aguada\", fuerte=\"Tortas\",postrea=\"rameon\", extra1=\"tortas doradas\",extra2=\"limones\", extra3=\"agua con hielo\")"
      ],
      "execution_count": null,
      "outputs": [
        {
          "output_type": "stream",
          "text": [
            "{'primer': 'sopa aguada', 'fuerte': 'Tortas', 'postrea': 'rameon', 'extra1': 'tortas doradas', 'extra2': 'limones', 'extra3': 'agua con hielo'}\n",
            "primer -> sopa aguada\n",
            "fuerte -> Tortas\n",
            "postrea -> rameon\n",
            "extra1 -> tortas doradas\n",
            "extra2 -> limones\n",
            "extra3 -> agua con hielo\n"
          ],
          "name": "stdout"
        }
      ]
    }
  ]
}