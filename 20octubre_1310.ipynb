{
  "nbformat": 4,
  "nbformat_minor": 0,
  "metadata": {
    "colab": {
      "name": "20octubre_1310.ipynb",
      "provenance": [],
      "authorship_tag": "ABX9TyOaRJ98FUSrIe2yIYrs25Du",
      "include_colab_link": true
    },
    "kernelspec": {
      "name": "python3",
      "display_name": "Python 3"
    }
  },
  "cells": [
    {
      "cell_type": "markdown",
      "metadata": {
        "id": "view-in-github",
        "colab_type": "text"
      },
      "source": [
        "<a href=\"https://colab.research.google.com/github/MirshaNohely/edd_1310_2021/blob/master/20octubre_1310.ipynb\" target=\"_parent\"><img src=\"https://colab.research.google.com/assets/colab-badge.svg\" alt=\"Open In Colab\"/></a>"
      ]
    },
    {
      "cell_type": "code",
      "metadata": {
        "id": "iDuoRrAMx2Fc",
        "outputId": "225231a4-f8c7-4abd-e210-8ce9840d2a17",
        "colab": {
          "base_uri": "https://localhost:8080/",
          "height": 102
        }
      },
      "source": [
        "archivo = open ('numeros.txt', 'rt')\n",
        "for linea in archivo.readlines():\n",
        "  print(linea)\n"
      ],
      "execution_count": 5,
      "outputs": [
        {
          "output_type": "stream",
          "text": [
            "23 , 23 , 44 , 55 , 5 \n",
            "\n",
            "44 , 4 , 5 , 7 , 7 \n",
            "\n",
            "6, 5, 4, 2, 1 \n"
          ],
          "name": "stdout"
        }
      ]
    },
    {
      "cell_type": "code",
      "metadata": {
        "id": "kCvYuhSq0Cpr"
      },
      "source": [
        ""
      ],
      "execution_count": null,
      "outputs": []
    },
    {
      "cell_type": "code",
      "metadata": {
        "id": "vl-3tz6V0DOJ",
        "outputId": "a34f68da-9e05-4a48-f527-978a5835266a",
        "colab": {
          "base_uri": "https://localhost:8080/",
          "height": 272
        }
      },
      "source": [
        "archivo = open ('numeros.txt', 'rt')\n",
        "for linea in archivo.readlines()[:3:]:#total\n",
        "  for trunc in linea.split(','):#total por linea\n",
        "    print(int(trunc.strip()))#otro for y el total de suma como en  lineas\n",
        "\n"
      ],
      "execution_count": 13,
      "outputs": [
        {
          "output_type": "stream",
          "text": [
            "23\n",
            "23\n",
            "44\n",
            "55\n",
            "5\n",
            "44\n",
            "4\n",
            "5\n",
            "7\n",
            "7\n",
            "6\n",
            "5\n",
            "4\n",
            "2\n",
            "1\n"
          ],
          "name": "stdout"
        }
      ]
    },
    {
      "cell_type": "markdown",
      "metadata": {
        "id": "74LWpZxF2pT5"
      },
      "source": [
        "#Sintaxis del for en python\n",
        "\n",
        "dos versiones de for\n",
        "\n",
        "    1.range\n",
        "    2.in iterador"
      ]
    },
    {
      "cell_type": "code",
      "metadata": {
        "id": "UNZ8HKjV2-WZ",
        "outputId": "4ccff575-6a44-4efa-93b0-72420f97981b",
        "colab": {
          "base_uri": "https://localhost:8080/",
          "height": 238
        }
      },
      "source": [
        "r = range(0,10,2)\n",
        "for x in r:\n",
        "  print(x)\n",
        "\n",
        "colores = ['rojo', 'rosa', 'azul', 'fucsia']\n",
        "\n",
        "for indice in range(0,4,1): #for(indice =0;indice<4;indice++)\n",
        "  print(colores[indice])\n",
        "\n",
        "#len dice de cuantos elementos es la lista\n",
        "for indice in range(0,len(colores),1): #for(indice =0;indice<4;indice++)\n",
        "  #print(colores[indice])\n",
        "  colores[indice]=colores[indice].upper()#modificanding gg\n",
        "  colores[indice]='blanco'\n",
        "  colores[indice]=colores[indice] + str(indice)\n",
        "\n",
        "\n",
        "# for sobre un iterador\n",
        "\n",
        "for col in colores:\n",
        "  print(col)"
      ],
      "execution_count": 23,
      "outputs": [
        {
          "output_type": "stream",
          "text": [
            "0\n",
            "2\n",
            "4\n",
            "6\n",
            "8\n",
            "rojo\n",
            "rosa\n",
            "azul\n",
            "fucsia\n",
            "blanco0\n",
            "blanco1\n",
            "blanco2\n",
            "blanco3\n"
          ],
          "name": "stdout"
        }
      ]
    },
    {
      "cell_type": "markdown",
      "metadata": {
        "id": "1WNliFC179pZ"
      },
      "source": [
        "#Generadores\n",
        "\n",
        "[ valor for x in range(10) ]#lista de numeros\n",
        "\n",
        "[[0,0,0], \n",
        " [0,0,0],\n",
        " [0,0,0]]\n",
        " ##el cero no es un solo elemento, es un generador independiente\n",
        "\n",
        " 3 x 3\n",
        "\n",
        " utilizar la misma sintaxis pero anidada\n",
        "  "
      ]
    },
    {
      "cell_type": "code",
      "metadata": {
        "id": "rEsUalvL8Wj3",
        "outputId": "e6621fee-1fbb-4aa8-cd63-5f0d6daf1bde",
        "colab": {
          "base_uri": "https://localhost:8080/",
          "height": 139
        }
      },
      "source": [
        "#'hola' for x in range(10)\n",
        "\n",
        "lista = [0 for x in range(10)]\n",
        "print(lista)\n",
        "lista = [x for x in range(10)]\n",
        "print(lista)\n",
        "lista = [colores for x in range(10)]\n",
        "print(lista)\n",
        "lista = [\"Hola\" for x in range(10)]\n",
        "print(lista)\n",
        "lista = [[0,0,0] for x in range(3)]\n",
        "print(lista)\n",
        "lista = [[0 for x in range(3)] for x in range(3)]\n",
        "print(lista)\n"
      ],
      "execution_count": 30,
      "outputs": [
        {
          "output_type": "stream",
          "text": [
            "[0, 0, 0, 0, 0, 0, 0, 0, 0, 0]\n",
            "[0, 1, 2, 3, 4, 5, 6, 7, 8, 9]\n",
            "[['blanco0', 'blanco1', 'blanco2', 'blanco3'], ['blanco0', 'blanco1', 'blanco2', 'blanco3'], ['blanco0', 'blanco1', 'blanco2', 'blanco3'], ['blanco0', 'blanco1', 'blanco2', 'blanco3'], ['blanco0', 'blanco1', 'blanco2', 'blanco3'], ['blanco0', 'blanco1', 'blanco2', 'blanco3'], ['blanco0', 'blanco1', 'blanco2', 'blanco3'], ['blanco0', 'blanco1', 'blanco2', 'blanco3'], ['blanco0', 'blanco1', 'blanco2', 'blanco3'], ['blanco0', 'blanco1', 'blanco2', 'blanco3']]\n",
            "['Hola', 'Hola', 'Hola', 'Hola', 'Hola', 'Hola', 'Hola', 'Hola', 'Hola', 'Hola']\n",
            "[[0, 0, 0], [0, 0, 0], [0, 0, 0]]\n",
            "[[0, 0, 0], [0, 0, 0], [0, 0, 0]]\n"
          ],
          "name": "stdout"
        }
      ]
    },
    {
      "cell_type": "code",
      "metadata": {
        "id": "22fasQ37-WFi",
        "outputId": "83beafba-4bdc-4c07-fd37-c6e610473901",
        "colab": {
          "base_uri": "https://localhost:8080/",
          "height": 34
        }
      },
      "source": [
        "ren = 3 #renglon\n",
        "col = 3 #columna\n",
        "lista = [[0 for x in range(col)] for x in range(ren)]\n",
        "print(lista)"
      ],
      "execution_count": 34,
      "outputs": [
        {
          "output_type": "stream",
          "text": [
            "[[0, 0, 0], [0, 0, 0], [0, 0, 0]]\n"
          ],
          "name": "stdout"
        }
      ]
    },
    {
      "cell_type": "markdown",
      "metadata": {
        "id": "sS9p1H4p_E8J"
      },
      "source": [
        "#POO en Python\n",
        "- clase\n",
        "- creacion de objetos\n",
        "- constructor\n",
        "- encapsulamiento\n",
        "- métodos\n",
        "- atributos\n",
        "- herencia"
      ]
    },
    {
      "cell_type": "code",
      "metadata": {
        "id": "949RXbgK_a6H",
        "outputId": "c3c61169-dcaf-4fd3-adfe-1492a0623e9a",
        "colab": {
          "base_uri": "https://localhost:8080/",
          "height": 51
        }
      },
      "source": [
        "class Computadora:\n",
        "    def __init__( self ):\n",
        "        print(\"creando el objeto\")\n",
        "\n",
        "    def to_string( self ):\n",
        "        return \"Estado vacio\"\n",
        "\n",
        "mi_pc = Computadora()\n",
        "\n",
        "#print(mi_pc)\n",
        "print(mi_pc.to_string())"
      ],
      "execution_count": 40,
      "outputs": [
        {
          "output_type": "stream",
          "text": [
            "creando el objeto\n",
            "Estado vacio\n"
          ],
          "name": "stdout"
        }
      ]
    },
    {
      "cell_type": "code",
      "metadata": {
        "id": "5fXgod3oC23B",
        "outputId": "9bbae139-8129-412f-9a0c-27352cdbcba8",
        "colab": {
          "base_uri": "https://localhost:8080/",
          "height": 34
        }
      },
      "source": [
        "class Computadora:\n",
        "    def __init__( self , m , p ): #metodo constructor con dos guiones\n",
        "        self.__marca = m  #__significa atributo privado(dos dos guines bajos)\n",
        "        self.__procesador = p\n",
        "\n",
        "    def to_string( self ):\n",
        "        return \"MArca:\"+self.__marca+\" Procesador:\"+self.__procesador\n",
        "\n",
        "\n",
        "mi_pc = Computadora(\"Toshiba\", \"Intel 17\") #variable que hace referencia del objeto actual, tipo computadora\n",
        "mi_pc.__marca =\"HP\"\n",
        "print(mi_pc.to_string())"
      ],
      "execution_count": 45,
      "outputs": [
        {
          "output_type": "stream",
          "text": [
            "MArca:Toshiba Procesador:Intel 17\n"
          ],
          "name": "stdout"
        }
      ]
    }
  ]
}