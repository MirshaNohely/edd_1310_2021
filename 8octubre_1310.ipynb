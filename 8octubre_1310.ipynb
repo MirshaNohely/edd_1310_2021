{
  "nbformat": 4,
  "nbformat_minor": 0,
  "metadata": {
    "colab": {
      "name": "8octubre_1310.ipynb",
      "provenance": [],
      "collapsed_sections": [],
      "authorship_tag": "ABX9TyOWQTuVZK5hsMoJjUAhrwRX",
      "include_colab_link": true
    },
    "kernelspec": {
      "name": "python3",
      "display_name": "Python 3"
    }
  },
  "cells": [
    {
      "cell_type": "markdown",
      "metadata": {
        "id": "view-in-github",
        "colab_type": "text"
      },
      "source": [
        "<a href=\"https://colab.research.google.com/github/MirshaNohely/edd_1310_2021/blob/master/8octubre_1310.ipynb\" target=\"_parent\"><img src=\"https://colab.research.google.com/assets/colab-badge.svg\" alt=\"Open In Colab\"/></a>"
      ]
    },
    {
      "cell_type": "code",
      "metadata": {
        "id": "lcwHv01F8aUj",
        "outputId": "71c14d09-2919-4b57-d335-ae407942ba94",
        "colab": {
          "base_uri": "https://localhost:8080/",
          "height": 187
        }
      },
      "source": [
        "#Listas Multi dimension☺\n",
        "monitores =[[\"Samsung\",\"17.3 \\\"\",1024],[\"BenQ\",\"40\\\"\",2048]]\n",
        "procesadores = [[\"Intel\",\"i7\",3.4],[\"AMD\",\"razzer\",3.3],[\"Intel\",\"i3\",3.1]]\n",
        "memorias = [[\"Kingston\", \"8GB\",\"DDR4\"],[\"Kingston\", \"16GB\",\"DDR3\"],[\"ADATA\", \"32GB\",\"DDR4\"]]\n",
        "\n",
        "componentes = [monitores,procesadores,memorias]\n",
        "\n",
        "print(componentes[1])\n",
        "print(memorias[1][1])\n",
        "print(componentes[2][1][1])\n",
        "print(monitores[1][2] )\n",
        "print((componentes[0][1][2])*2)\n",
        "print(componentes[1][1][1])\n",
        "print(componentes[1][1][1][1:4])\n",
        "print(componentes[1][1][1][1:4:1])\n",
        "#adata, mostrar en minusculas\n",
        "print(componentes[2][2][0].lower())#se llama la funcion lower de string\n",
        "#agregar a la lista\n",
        "componentes[2].append([\"Patito\",\"32GB\", \"DDR4\"])\n",
        "print(componentes[2])\n"
      ],
      "execution_count": 24,
      "outputs": [
        {
          "output_type": "stream",
          "text": [
            "[['Intel', 'i7', 3.4], ['AMD', 'razzer', 3.3], ['Intel', 'i3', 3.1]]\n",
            "16GB\n",
            "16GB\n",
            "2048\n",
            "4096\n",
            "razzer\n",
            "azz\n",
            "azz\n",
            "adata\n",
            "[['Kingston', '8GB', 'DDR4'], ['Kingston', '16GB', 'DDR3'], ['ADATA', '32GB', 'DDR4'], ['Patito', '32GB', 'DDR4']]\n"
          ],
          "name": "stdout"
        }
      ]
    },
    {
      "cell_type": "markdown",
      "metadata": {
        "id": "r1vqMqHLR7Ws"
      },
      "source": [
        ""
      ]
    },
    {
      "cell_type": "code",
      "metadata": {
        "id": "-veba2TNHzBP",
        "outputId": "5ce413ba-089f-4b13-d592-2e3d85f94e89",
        "colab": {
          "base_uri": "https://localhost:8080/",
          "height": 153
        }
      },
      "source": [
        "#Copiar listas\n",
        "\n",
        "#Extender Listas\n",
        "frutas = [\"pera\",\"manzana\"]\n",
        "otras_frutas = [\"aguacate\", \"sandia\"]\n",
        "\n",
        "#print(frutas + otras frutas)\n",
        "#print(frutas)\n",
        "#Mandar de una lista a otra\n",
        "#frutas.append(otras_frutas)\n",
        "#print(frutas)\n",
        "#Mandar dentro de frutas----------------\n",
        "# +sobre listas\n",
        "#frutas = frutas + otras_frutas\n",
        "#print(frutas)\n",
        "#funcion extend()\n",
        "#frutas.extend(otras_frutas)\n",
        "#print(frutas)\n",
        "#----------------------------------------\n",
        "#frutas.append(otras_frutas)\n",
        "#print(frutas)\n",
        "\n",
        "\n",
        "#copiar\n",
        "\n",
        "colores = [\"azul\", \"rojo\", \"verde\",\"violeta\"]\n",
        "otros_colores = colores\n",
        "print(colores)\n",
        "print(otros_colores)\n",
        "otros_colores.append(\"Rosa\")\n",
        "print(colores)\n",
        "print(otros_colores)\n",
        "\n",
        "una_mas = colores.copy()\n",
        "print(una_mas)\n",
        "una_mas.append(\"gris\")\n",
        "print(una_mas)\n",
        "print(colores)\n",
        "\n",
        "#unpacking de listas--------------------------------------------------------------------------\n",
        "\n",
        "alumno = [\"Jesus\",\"Perez\", \"Herrera\", 22, \"ICO\",10.0]\n",
        "#nombre = alumno [0]\n",
        "#paterno = alumno [1]\n",
        "#etc\n",
        "\n",
        "#misma cantidad de variables a la izquierda, que numero de variables que se quieran empaquetar\n",
        "nombre, paterno, materno, edad, carrera, promedio = alumno\n",
        "print(f\"Alumno:{nombre} {paterno} {materno} carrera: {carrera} promedio = {promedio}\")\n",
        "#-----------------------------------------------------------------------------------------------"
      ],
      "execution_count": 51,
      "outputs": [
        {
          "output_type": "stream",
          "text": [
            "['azul', 'rojo', 'verde', 'violeta']\n",
            "['azul', 'rojo', 'verde', 'violeta']\n",
            "['azul', 'rojo', 'verde', 'violeta', 'Rosa']\n",
            "['azul', 'rojo', 'verde', 'violeta', 'Rosa']\n",
            "['azul', 'rojo', 'verde', 'violeta', 'Rosa']\n",
            "['azul', 'rojo', 'verde', 'violeta', 'Rosa', 'gris']\n",
            "['azul', 'rojo', 'verde', 'violeta', 'Rosa']\n",
            "Alumno:Jesus Perez Herrera carrera: ICO promedio = 10.0\n"
          ],
          "name": "stdout"
        }
      ]
    },
    {
      "cell_type": "markdown",
      "metadata": {
        "id": "oJ4UH9HnR9Is"
      },
      "source": [
        "#Tuplas\n",
        "- se declaran con ( )\n",
        "- selector con [ ]\n",
        "- NO son mutables"
      ]
    },
    {
      "cell_type": "code",
      "metadata": {
        "id": "EXoypESLSR5f",
        "outputId": "7e2daeda-e3ce-43a5-de25-f2b699faaa17",
        "colab": {
          "base_uri": "https://localhost:8080/",
          "height": 68
        }
      },
      "source": [
        "precios = (99.9 , 49.9, 12.45)#mismo comportamiento que una lista, pero NO ES MUTABLE\n",
        "print(precios[1])\n",
        "#precios[1] = 50.0 #No se puede, los tpla solo sirven de consulta\n",
        "#precios.count\n",
        "#precios.index\n",
        "precios = (99.9 , 49.9, 12.45, 23.3, 33.44, 55.66 )\n",
        "print(precios)\n",
        "print(precios[2:4])\n",
        "\n",
        "\n",
        "\n"
      ],
      "execution_count": 53,
      "outputs": [
        {
          "output_type": "stream",
          "text": [
            "49.9\n",
            "(99.9, 49.9, 12.45, 23.3, 33.44, 55.66)\n",
            "(12.45, 23.3)\n"
          ],
          "name": "stdout"
        }
      ]
    },
    {
      "cell_type": "markdown",
      "metadata": {
        "id": "rP0qVKtwTl-v"
      },
      "source": [
        "#Diccionarios\n",
        "- Se declaran con ( )\n",
        "- Si son mutables ( )\n",
        "- Conjunto de pares llave: valor\n",
        "- Equivalentes a un tipo de dato JSON de JavaScrip\n",
        "\n",
        "json para intercambiar info"
      ]
    },
    {
      "cell_type": "code",
      "metadata": {
        "id": "63D-YRoqUSTu",
        "outputId": "46bb35bc-b9c2-4124-f343-e393be785ba3",
        "colab": {
          "base_uri": "https://localhost:8080/",
          "height": 102
        }
      },
      "source": [
        "cliente = {     }\n",
        "print(cliente)\n",
        "alumno = {    \"num_cta\" : 1234567}\n",
        "print(alumno)\n",
        "alumno = { \n",
        "          \"num_cta\" : 1234567 ,\n",
        "          \"carrera\" : \"ICO\",\n",
        "          \"promedio\" : 9.8,\n",
        "          \"materias\" :[\"EDD\",\"CyP\",\"Calidad\",\"Emprendimiento\"],\n",
        "          \"direccion\" : { \n",
        "                            \"calle\":\"rancho seco\",\n",
        "                            \"numero\" : 23 ,\n",
        "                            \"delegacion\" : \"Neza\",\n",
        "                            \"estado\" : {\n",
        "                                        \"id\" : 15 ,\n",
        "                                        \"nombre\" : \"Estado de Máxico\" ,\n",
        "                                        \"nombre_corto\" : \"EdoMex\"\n",
        "                                        } ,\n",
        "                            \"CP\":57170\n",
        "\n",
        "                        } \n",
        "          }\n",
        "#siempre va aproducir o un objeto en vacio o en pares\n",
        "print(alumno['materias'])#seleector\n",
        "print(alumno['promedio'])\n",
        "print(alumno['direccion']['estado']['nombre_corto'])"
      ],
      "execution_count": 58,
      "outputs": [
        {
          "output_type": "stream",
          "text": [
            "{}\n",
            "{'num_cta': 1234567}\n",
            "['EDD', 'CyP', 'Calidad', 'Emprendimiento']\n",
            "9.8\n",
            "EdoMex\n"
          ],
          "name": "stdout"
        }
      ]
    }
  ]
}