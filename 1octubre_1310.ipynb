{
  "nbformat": 4,
  "nbformat_minor": 0,
  "metadata": {
    "colab": {
      "name": "1octubre_1310.ipynb",
      "provenance": [],
      "collapsed_sections": [],
      "authorship_tag": "ABX9TyMlh+WpP9KCRmMO2ANElO9P",
      "include_colab_link": true
    },
    "kernelspec": {
      "name": "python3",
      "display_name": "Python 3"
    }
  },
  "cells": [
    {
      "cell_type": "markdown",
      "metadata": {
        "id": "view-in-github",
        "colab_type": "text"
      },
      "source": [
        "<a href=\"https://colab.research.google.com/github/MirshaNohely/edd_1310_2021/blob/master/1octubre_1310.ipynb\" target=\"_parent\"><img src=\"https://colab.research.google.com/assets/colab-badge.svg\" alt=\"Open In Colab\"/></a>"
      ]
    },
    {
      "cell_type": "code",
      "metadata": {
        "id": "XLxGA5So5FWM"
      },
      "source": [
        ""
      ],
      "execution_count": null,
      "outputs": []
    },
    {
      "cell_type": "markdown",
      "metadata": {
        "id": "zwMgMw-f72zA"
      },
      "source": [
        "#Intro Python 3\n",
        "### Variables\n",
        "tipo dinámico\n",
        "\n",
        "  escuela = \"Fes Aragon\""
      ]
    },
    {
      "cell_type": "code",
      "metadata": {
        "id": "7cdQ1-vu8MwS",
        "outputId": "2d41a94b-5410-46f7-efbc-28b06127cc4d",
        "colab": {
          "base_uri": "https://localhost:8080/",
          "height": 187
        }
      },
      "source": [
        "escuela = \"Fes Aragon\"\n",
        "print(escuela)\n",
        "print(\"--------------------\")\n",
        "edad = 13\n",
        "estructura = 1.67\n",
        "fumador = True\n",
        "frase = \"\"\"\n",
        "Esta es \n",
        "una\n",
        "frase\n",
        "de multiples líneas\n",
        "y támbien es\n",
        "un tipo de dato\n",
        "\"\"\"\n",
        "\n",
        "print(frase)\n",
        "nombre = 'Jose'\n",
        "nombre_completo = \"Jose Sosa Cardenas\""
      ],
      "execution_count": 4,
      "outputs": [
        {
          "output_type": "stream",
          "text": [
            "Fes Aragon\n",
            "--------------------\n",
            "\n",
            "Esta es \n",
            "una\n",
            "frase\n",
            "de multiples líneas\n",
            "y támbien es\n",
            "un tipo de dato\n",
            "\n"
          ],
          "name": "stdout"
        }
      ]
    },
    {
      "cell_type": "markdown",
      "metadata": {
        "id": "2ww7Qhqz92CO"
      },
      "source": [
        "# Print\n",
        "\n",
        "con comas ,\n",
        "\n",
        "con signo mas +\n",
        "\n",
        "con format ()\n",
        "\n",
        "con operador f\"\"\""
      ]
    },
    {
      "cell_type": "code",
      "metadata": {
        "id": "h8mbO3IZ-KCo",
        "outputId": "3b7fc0ed-89ac-4479-9f0b-1e3120c92b39",
        "colab": {
          "base_uri": "https://localhost:8080/",
          "height": 34
        }
      },
      "source": [
        "print(nombre,edad)"
      ],
      "execution_count": 6,
      "outputs": [
        {
          "output_type": "stream",
          "text": [
            "Jose 13\n"
          ],
          "name": "stdout"
        }
      ]
    },
    {
      "cell_type": "code",
      "metadata": {
        "id": "dR_1sTDj_CYF",
        "outputId": "f338e38a-caf9-4bdf-d180-9a427f5fa90b",
        "colab": {
          "base_uri": "https://localhost:8080/",
          "height": 102
        }
      },
      "source": [
        "# + concatena\n",
        "print(nombre + str(edad))\n",
        "print(nombre + nombre_completo)\n",
        "print(\"------------------------\")\n",
        "#diferencia entre ( + ) y ( , )\n",
        "print(nombre, edad)\n",
        "print(nombre, nombre_completo)"
      ],
      "execution_count": 10,
      "outputs": [
        {
          "output_type": "stream",
          "text": [
            "Jose13\n",
            "JoseJose Sosa Cardenas\n",
            "------------------------\n",
            "Jose 13\n",
            "Jose Jose Sosa Cardenas\n"
          ],
          "name": "stdout"
        }
      ]
    },
    {
      "cell_type": "code",
      "metadata": {
        "id": "zrNDB_BOAPlZ",
        "outputId": "3056bfbc-f6ad-4d15-e5b3-c6d0f6f25b17",
        "colab": {
          "base_uri": "https://localhost:8080/",
          "height": 85
        }
      },
      "source": [
        "# con formato -> Su nombre es Jose y su edad es de 13 años.\n",
        "print(\"Su nombre es\", nombre, \"y su edad es de\", edad, \"años.\")\n",
        "print(\"Su nombre es {0} y su edad es de {1} años.\".format(nombre, edad) )\n",
        "print(\"------------------------------------------\")\n",
        "#Diferencia cundo se cambian los indices.\n",
        "print(\"Su nombre es {1} y su edad es de {0} años.\".format(nombre, edad) )"
      ],
      "execution_count": 15,
      "outputs": [
        {
          "output_type": "stream",
          "text": [
            "Su nombre es Jose y su edad es de 13 años.\n",
            "Su nombre es Jose y su edad es de 13 años.\n",
            "------------------------------------------\n",
            "Su nombre es 13 y su edad es de Jose años.\n"
          ],
          "name": "stdout"
        }
      ]
    },
    {
      "cell_type": "code",
      "metadata": {
        "id": "aRwwrhcSBwgQ",
        "outputId": "a79e2cb4-d129-46a2-d81f-a2b1a1f99c37",
        "colab": {
          "base_uri": "https://localhost:8080/",
          "height": 34
        }
      },
      "source": [
        "# con formato con el operador f\"\"\n",
        "\n",
        "print(f\"Su nombre es {nombre} y su edad es de {edad} años.\")"
      ],
      "execution_count": 17,
      "outputs": [
        {
          "output_type": "stream",
          "text": [
            "Su nombre es Jose y su edad es de 13 años.\n"
          ],
          "name": "stdout"
        }
      ]
    },
    {
      "cell_type": "markdown",
      "metadata": {
        "id": "c1E_09hMCXtR"
      },
      "source": [
        "# Carácter de escape\n",
        "\n",
        "\\n salto de linea\n",
        "\n",
        "\\t tabulador\n",
        "\n",
        "\\a beep\n",
        "\n",
        "\\\" imprimir comilla doble\n",
        "\n",
        "\\' imprimir comilla simple\n"
      ]
    },
    {
      "cell_type": "code",
      "metadata": {
        "id": "WkqIEjtBCPq3",
        "outputId": "b658f701-9a04-4d07-d473-5c9ca8017169",
        "colab": {
          "base_uri": "https://localhost:8080/",
          "height": 34
        }
      },
      "source": [
        "print(f\"Su nombre es \\\"{nombre}\\\" y su edad es de {edad} años.\")"
      ],
      "execution_count": 18,
      "outputs": [
        {
          "output_type": "stream",
          "text": [
            "Su nombre es \"Jose\" y su edad es de 13 años.\n"
          ],
          "name": "stdout"
        }
      ]
    },
    {
      "cell_type": "code",
      "metadata": {
        "id": "duTeKXW7DOv6",
        "outputId": "6ebe2954-f632-404e-8219-c79ea552d19c",
        "colab": {
          "base_uri": "https://localhost:8080/",
          "height": 51
        }
      },
      "source": [
        "\"\"\"\n",
        "Esto es \n",
        "un comentario \n",
        "de multiple línea \n",
        "tan tan \n",
        "\"\"\"\n",
        "print(f\"\\tMi nombre es \\n\\t\\t {nombre}\")"
      ],
      "execution_count": 19,
      "outputs": [
        {
          "output_type": "stream",
          "text": [
            "\tMi nombre es \n",
            "\t\t Jose\n"
          ],
          "name": "stdout"
        }
      ]
    },
    {
      "cell_type": "markdown",
      "metadata": {
        "id": "N38iBGqWD1in"
      },
      "source": [
        "# Documentación Python\n",
        "# Ayuda de tipos de datos en Python\n",
        "\n",
        "dir()\n",
        "\n",
        "help()\n",
        "\n"
      ]
    },
    {
      "cell_type": "code",
      "metadata": {
        "id": "XETZKyk2D04m"
      },
      "source": [
        "#str, int, float, bool ... list, dict, set\n",
        "#dir(str)\n",
        "help(str)"
      ],
      "execution_count": null,
      "outputs": []
    },
    {
      "cell_type": "code",
      "metadata": {
        "id": "sMB2ggHaFQ3y",
        "outputId": "af040a94-e57a-442b-ba34-50271ab8e823",
        "colab": {
          "base_uri": "https://localhost:8080/",
          "height": 68
        }
      },
      "source": [
        "print(nombre_completo.capitalize() )\n",
        "print(nombre_completo.upper() )\n",
        "print(nombre_completo.title() )"
      ],
      "execution_count": 21,
      "outputs": [
        {
          "output_type": "stream",
          "text": [
            "Jose sosa cardenas\n",
            "JOSE SOSA CARDENAS\n",
            "Jose Sosa Cardenas\n"
          ],
          "name": "stdout"
        }
      ]
    },
    {
      "cell_type": "code",
      "metadata": {
        "id": "vvJccxmaGKgk"
      },
      "source": [
        "help(print)"
      ],
      "execution_count": null,
      "outputs": []
    },
    {
      "cell_type": "markdown",
      "metadata": {
        "id": "G13lo6MDHRqR"
      },
      "source": [
        ""
      ]
    },
    {
      "cell_type": "code",
      "metadata": {
        "id": "5PC72X-SGjly",
        "outputId": "3fc36641-3b70-4a38-8c8d-7f9232a4d5bd",
        "colab": {
          "base_uri": "https://localhost:8080/",
          "height": 51
        }
      },
      "source": [
        "print(nombre_completo.capitalize() )\n",
        "print(nombre_completo.upper() , end = \"---------\")\n",
        "print(nombre_completo.title() )"
      ],
      "execution_count": 23,
      "outputs": [
        {
          "output_type": "stream",
          "text": [
            "Jose sosa cardenas\n",
            "JOSE SOSA CARDENAS---------Jose Sosa Cardenas\n"
          ],
          "name": "stdout"
        }
      ]
    },
    {
      "cell_type": "markdown",
      "metadata": {
        "id": "QpBYwOPPGvVu"
      },
      "source": [
        "# clase String\n",
        "Es manejada como un arreglo (c o java) o lista (python)\n",
        "\n",
        "telefono = \"Huawei mate  30 pro\"\n",
        "\n",
        "print(telefono [ 0 ] )"
      ]
    },
    {
      "cell_type": "code",
      "metadata": {
        "id": "sZTV7yhKHVFE",
        "outputId": "de45792b-fdaf-4b0e-9311-cc088f538c5f",
        "colab": {
          "base_uri": "https://localhost:8080/",
          "height": 34
        }
      },
      "source": [
        "#Lista o arreglo\n",
        "telefono = \"Huawei mate  30 pro\"\n",
        "\n",
        "print(telefono [ 0 ] )"
      ],
      "execution_count": 26,
      "outputs": [
        {
          "output_type": "stream",
          "text": [
            "H\n"
          ],
          "name": "stdout"
        }
      ]
    },
    {
      "cell_type": "code",
      "metadata": {
        "id": "vEskcsW4H_sL",
        "outputId": "f13a77ba-f11c-44c8-ba82-aebbfbf45666",
        "colab": {
          "base_uri": "https://localhost:8080/",
          "height": 34
        }
      },
      "source": [
        "telefono = \"Huawei mate  30 pro\"\n",
        "\n",
        "print(telefono [ 5 ] )"
      ],
      "execution_count": 25,
      "outputs": [
        {
          "output_type": "stream",
          "text": [
            "i\n"
          ],
          "name": "stdout"
        }
      ]
    },
    {
      "cell_type": "markdown",
      "metadata": {
        "id": "-z4AYIuKIPqk"
      },
      "source": [
        "# slicing (rebanado)\n",
        "\n",
        "[ini: stop : incremento]\n",
        "\n",
        "Nota: El stop no se incluye, termina en el valor anterior al stop"
      ]
    },
    {
      "cell_type": "code",
      "metadata": {
        "id": "MZ-5WLDJIecc",
        "outputId": "e0fc8a5a-c282-47c1-cd44-461817b0fd7b",
        "colab": {
          "base_uri": "https://localhost:8080/",
          "height": 102
        }
      },
      "source": [
        "print(telefono[7:11:1])\n",
        "# el inicio y el incremento son opcionales\n",
        "print(telefono [:11:])\n",
        "# el valor, por defecto, de stop es len(str)\n",
        "print(telefono[::])\n",
        "# incremento negativo\n",
        "print(telefono[::-1]) #puede servir para encontrar algo al ultimo...\n",
        "#\n",
        "print(telefono[-3::1]) #si el slicing detecta el negativo, se empieza a contar desde -3...\n",
        "#...+ es slicing negativo"
      ],
      "execution_count": 32,
      "outputs": [
        {
          "output_type": "stream",
          "text": [
            "mate\n",
            "Huawei mate\n",
            "Huawei mate  30 pro\n",
            "orp 03  etam iewauH\n",
            "pro\n"
          ],
          "name": "stdout"
        }
      ]
    },
    {
      "cell_type": "code",
      "metadata": {
        "id": "bnpi3NHzNLQT"
      },
      "source": [
        "# métodos de string (str)\n",
        "\n",
        "Existen métodos muy útiles en esta clase."
      ],
      "execution_count": null,
      "outputs": []
    },
    {
      "cell_type": "markdown",
      "metadata": {
        "id": "3huq2J44Ne50"
      },
      "source": [
        "# métodos de string (str)\n",
        "\n",
        "Existen métodos muy útiles en esta clase."
      ]
    },
    {
      "cell_type": "code",
      "metadata": {
        "id": "2eU154etNhmG",
        "outputId": "b0b72719-6d18-44cd-cb12-c38f487e842e",
        "colab": {
          "base_uri": "https://localhost:8080/",
          "height": 357
        }
      },
      "source": [
        "facultad = \"    facultad de estudios superiores aragon    \"\n",
        "print(facultad)\n",
        "print(facultad.count(\"  \"))#cuenta el numero de espacios( x, numero de elementos) que hay en la cadena\n",
        "print(facultad.count(\"f\"))#cuenta el numero de f\n",
        "print(facultad.count(\"s\"))#cuenta el numero de s\n",
        "print(facultad.find(\"h\"))#encuentra numero de elemnto\n",
        "print(facultad.find(\"a\"))\n",
        "print(facultad.strip() )#quita los spacios en blanco y tambien los saltos en linea\n",
        "tamaño = len(facultad)\n",
        "print(len(facultad))#regresa la longitud de un str y la puedes asignar a una variable, dar un entero\n",
        "print(f\"tamaño de la cadena es {tamaño} caracteres\")\n",
        "print(facultad.split(\"t\"))#dividir cadena en base a un caracter (t)\n",
        "#antes de hacer un split hay que hacer un string(quito las cosas de la derecha y de la izquierd)\n",
        "print(facultad)\n",
        "print(facultad.strip().split(\"  \"))\n",
        "\n",
        "print(\"----------------------------------------\")\n",
        "# copiar cadenas\n",
        "otra_cadena = facultad \n",
        "print(otra_cadena)\n",
        "facultad = \"Fes Aragon\"\n",
        "print(facultad)\n",
        "print(otra_cadena)\n",
        "\n",
        "# copiar listas\n",
        "colores = ['rojo', 'verde']\n",
        "otra = colores.copy()\n",
        "print(colores)\n",
        "print(otra)\n",
        "otra.append(\"rosa\")\n",
        "print(colores)\n",
        "print(otra)\n"
      ],
      "execution_count": 53,
      "outputs": [
        {
          "output_type": "stream",
          "text": [
            "    facultad de estudios superiores aragon    \n",
            "4\n",
            "1\n",
            "4\n",
            "-1\n",
            "5\n",
            "facultad de estudios superiores aragon\n",
            "46\n",
            "tamaño de la cadena es 46 caracteres\n",
            "['    facul', 'ad de es', 'udios superiores aragon    ']\n",
            "    facultad de estudios superiores aragon    \n",
            "['facultad de estudios superiores aragon']\n",
            "----------------------------------------\n",
            "    facultad de estudios superiores aragon    \n",
            "Fes Aragon\n",
            "    facultad de estudios superiores aragon    \n",
            "['rojo', 'verde']\n",
            "['rojo', 'verde']\n",
            "['rojo', 'verde']\n",
            "['rojo', 'verde', 'rosa']\n"
          ],
          "name": "stdout"
        }
      ]
    }
  ]
}