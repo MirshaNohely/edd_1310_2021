{
  "nbformat": 4,
  "nbformat_minor": 0,
  "metadata": {
    "colab": {
      "name": "EyAyEhEyanAlien.ipynb",
      "provenance": [],
      "authorship_tag": "ABX9TyNpH68sQ5UGW2N6g6bwh+rh",
      "include_colab_link": true
    },
    "kernelspec": {
      "name": "python3",
      "display_name": "Python 3"
    }
  },
  "cells": [
    {
      "cell_type": "markdown",
      "metadata": {
        "id": "view-in-github",
        "colab_type": "text"
      },
      "source": [
        "<a href=\"https://colab.research.google.com/github/MirshaNohely/edd_1310_2021/blob/master/EyAyEhEyanAlien.ipynb\" target=\"_parent\"><img src=\"https://colab.research.google.com/assets/colab-badge.svg\" alt=\"Open In Colab\"/></a>"
      ]
    },
    {
      "cell_type": "code",
      "metadata": {
        "id": "iDuoRrAMx2Fc",
        "outputId": "da19ce95-114a-444d-9b47-272f906633f2",
        "colab": {
          "base_uri": "https://localhost:8080/",
          "height": 717
        }
      },
      "source": [
        "archivo = open ('Datos.txt', 'rt')\n",
        "for linea in archivo.readlines():\n",
        "  print(linea)\n"
      ],
      "execution_count": 1,
      "outputs": [
        {
          "output_type": "stream",
          "text": [
            "1,2,      1,   14,          29,45,5,        58,56, 10,     29,     14,      88,           17,4,3,1,7,         12,            10\n",
            "\n",
            "\n",
            "\n",
            "2,        23,               5, 8, 44,        2, 2,             13,             5,9,10,16,  98,  76,      47,     1,1,3,         2\n",
            "\n",
            "\n",
            "\n",
            "3,       87,       15,11,9,      7,90,97,           21,3,4,1,     8,   88,    74,         32, 34,    43, 17,        77, 93\n",
            "\n",
            "\n",
            "\n",
            "4,46,8,1,6,2,         10,37,84,     4,5,9,10,            2,         6 ,3   1,1 ,1,    8,   4,20,  33,  23,       18, 45\n",
            "\n",
            "     \n",
            "\n",
            "55, 3, 2,      29,     58,    83,9, 17, 1,    43, 20,          93,     31,        46,43, 77,           8,44,45, 17,          62\n",
            "\n",
            "\n",
            "\n",
            "6,       74, 13, 44,          18, 45,                11,   93, 2,   1, 1 ,1,        25, 1,        42,  18,     22,              44,   52\n",
            "\n",
            "\n",
            "\n",
            "7,    88, 93,    6, 54, 2, 8, 1,        41, 86, 79,        33, 48,9,             32, 63,18,7,         33,2,1,     16,11, 7\n",
            "\n",
            "\n",
            "\n",
            "8, 0,  22,    17,30,6, 2,         12, 47,  37,     34,   85,       47,    33,  2,  6,      8, 4, 5,   29,    30, 42,      77, 2\n",
            "\n",
            "\n",
            "\n",
            "9,    2,3,4,    1,1,      3,6,   7,7,8,  9,      5, 1,      3, 4, 9,    10,           12,    3, 1,     5,    6,    22,11,     0,  2\n",
            "\n",
            "\n",
            "\n",
            "1,0,     2,55,      9,  3,     55,    23,1,6,      9,    4,   5,     3,3,2,  1,      3,8,      1,   6,       10,      0,   1,5,1,      3\n",
            "\n",
            "\n",
            "\n"
          ],
          "name": "stdout"
        }
      ]
    },
    {
      "cell_type": "code",
      "metadata": {
        "id": "caqMiZgZkM0V",
        "outputId": "1dbd5510-ed11-4dc9-dc0f-7450d5487f42",
        "colab": {
          "base_uri": "https://localhost:8080/",
          "height": 714
        }
      },
      "source": [
        "archivo = open('Datos.txt',\"rt\")\n",
        "\n",
        "archivos = 'ppp'\n",
        "while(archivos != ''):\n",
        "    archivos = archivo.readline()\n",
        "    archivos = archivos.replace(\" \",'').replace(\",\",'')\n",
        "    print(archivos)\n",
        "archivo.close()"
      ],
      "execution_count": 2,
      "outputs": [
        {
          "output_type": "stream",
          "text": [
            "12114294555856102914881743171210\n",
            "\n",
            "\n",
            "\n",
            "223584422135910169876471132\n",
            "\n",
            "\n",
            "\n",
            "38715119790972134188874323443177793\n",
            "\n",
            "\n",
            "\n",
            "446816210378445910263111842033231845\n",
            "\n",
            "\n",
            "\n",
            "5532295883917143209331464377844451762\n",
            "\n",
            "\n",
            "\n",
            "67413441845119321112514218224452\n",
            "\n",
            "\n",
            "\n",
            "78893654281418679334893263187332116117\n",
            "\n",
            "\n",
            "\n",
            "80221730621247373485473326845293042772\n",
            "\n",
            "\n",
            "\n",
            "9234113677895134910123156221102\n",
            "\n",
            "\n",
            "\n",
            "1025593552316945332138161001513\n",
            "\n",
            "\n",
            "\n",
            "\n"
          ],
          "name": "stdout"
        }
      ]
    },
    {
      "cell_type": "code",
      "metadata": {
        "id": "cr0Ta97uYOzI",
        "outputId": "4085410c-19d8-42ed-8dfc-4d85d5b50d87",
        "colab": {
          "base_uri": "https://localhost:8080/",
          "height": 374
        }
      },
      "source": [
        "archivo = open('Datos.txt', \"rt\")\n",
        "datos = 'p'\n",
        "total_linea = 0\n",
        "total_suma = 0\n",
        "n = 0\n",
        "x = []\n",
        "\n",
        "while(datos !=\"\"):\n",
        "  datos = archivo.readline()\n",
        "  eliminar = datos.replace(' ','')\n",
        "  eliminar = eliminar.replace('\\n','')\n",
        "  if eliminar != '':\n",
        "    x = eliminar.split(',')\n",
        "    #print(x)\n",
        "    i = 0\n",
        "    for a in x:\n",
        "      numero = int(x[i])\n",
        "      total_linea += numero\n",
        "      total_suma += numero\n",
        "      i += 1\n",
        "    n+=1\n",
        "    print(f\"En el renglon numero {n}, su suma es: \", total_linea,'\\n')\n",
        "    suma_renglon = 0\n",
        "\n",
        "print('El resultado total de la suma de los renglones da', total_suma)"
      ],
      "execution_count": 56,
      "outputs": [
        {
          "output_type": "stream",
          "text": [
            "En el renglon numero 1, su suma es:  406 \n",
            "\n",
            "En el renglon numero 2, su suma es:  773 \n",
            "\n",
            "En el renglon numero 3, su suma es:  1587 \n",
            "\n",
            "En el renglon numero 4, su suma es:  2005 \n",
            "\n",
            "En el renglon numero 5, su suma es:  2791 \n",
            "\n",
            "En el renglon numero 6, su suma es:  3304 \n",
            "\n",
            "En el renglon numero 7, su suma es:  4049 \n",
            "\n",
            "En el renglon numero 8, su suma es:  4634 \n",
            "\n",
            "En el renglon numero 9, su suma es:  4788 \n",
            "\n",
            "En el renglon numero 10, su suma es:  5008 \n",
            "\n",
            "El resultado total de la suma de los renglones da 5008\n"
          ],
          "name": "stdout"
        }
      ]
    }
  ]
}